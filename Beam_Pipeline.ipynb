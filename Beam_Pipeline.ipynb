{
  "nbformat": 4,
  "nbformat_minor": 0,
  "metadata": {
    "colab": {
      "name": "First_Pipeline.ipynb",
      "provenance": [],
      "collapsed_sections": [],
      "toc_visible": true
    },
    "kernelspec": {
      "name": "python3",
      "display_name": "Python 3"
    },
    "language_info": {
      "name": "python"
    }
  },
  "cells": [
    {
      "cell_type": "markdown",
      "source": [
        "**Install Apache Beam SDK**"
      ],
      "metadata": {
        "id": "jdcO5uMT0TwZ"
      }
    },
    {
      "cell_type": "code",
      "source": [
        "%pip install -q apache-beam[interactive] --no-warn-conflicts"
      ],
      "metadata": {
        "id": "CK3lvSli--sr",
        "colab": {
          "base_uri": "https://localhost:8080/"
        },
        "outputId": "cc09db69-81d2-42da-9d5c-547a44740190"
      },
      "execution_count": null,
      "outputs": [
        {
          "output_type": "stream",
          "name": "stdout",
          "text": [
            "\u001b[K     |████████████████████████████████| 10.1 MB 23.7 MB/s \n",
            "\u001b[K     |████████████████████████████████| 63 kB 1.4 MB/s \n",
            "\u001b[K     |████████████████████████████████| 151 kB 49.3 MB/s \n",
            "\u001b[K     |████████████████████████████████| 245 kB 41.2 MB/s \n",
            "\u001b[K     |████████████████████████████████| 45 kB 2.8 MB/s \n",
            "\u001b[K     |████████████████████████████████| 508 kB 55.9 MB/s \n",
            "\u001b[K     |████████████████████████████████| 2.3 MB 44.5 MB/s \n",
            "\u001b[K     |████████████████████████████████| 112 kB 69.3 MB/s \n",
            "\u001b[K     |████████████████████████████████| 121 kB 56.4 MB/s \n",
            "\u001b[K     |████████████████████████████████| 792 kB 57.0 MB/s \n",
            "\u001b[K     |████████████████████████████████| 380 kB 49.4 MB/s \n",
            "\u001b[K     |████████████████████████████████| 1.1 MB 39.7 MB/s \n",
            "\u001b[?25h  Building wheel for dill (setup.py) ... \u001b[?25l\u001b[?25hdone\n",
            "  Building wheel for timeloop (setup.py) ... \u001b[?25l\u001b[?25hdone\n"
          ]
        }
      ]
    },
    {
      "cell_type": "markdown",
      "source": [
        "# **IO in Apache Beam**"
      ],
      "metadata": {
        "id": "w7-FJrQR34cW"
      }
    },
    {
      "cell_type": "markdown",
      "source": [
        "### [**Working with Text Files**](https://)\n",
        "\n",
        "\n"
      ],
      "metadata": {
        "id": "8dq7Y2FN1qn9"
      }
    },
    {
      "cell_type": "code",
      "source": [
        "import apache_beam as beam\n",
        "\n",
        "p1 = beam.Pipeline()\n",
        "\n",
        "customers = (\n",
        "    p1\n",
        "    |beam.io.ReadFromText('Customers_age.txt')\n",
        "    |beam.io.WriteToText('text-output',file_name_suffix='.csv')\n",
        ")\n",
        "p1.run()"
      ],
      "metadata": {
        "colab": {
          "base_uri": "https://localhost:8080/"
        },
        "id": "TXQTV6ZQIgoJ",
        "outputId": "e951a2e8-d012-484c-a69c-b41690bddc62"
      },
      "execution_count": null,
      "outputs": [
        {
          "output_type": "stream",
          "name": "stderr",
          "text": [
            "WARNING:root:Make sure that locally built Python SDK docker image has Python 3.7 interpreter.\n"
          ]
        },
        {
          "output_type": "execute_result",
          "data": {
            "text/plain": [
              "<apache_beam.runners.portability.fn_api_runner.fn_runner.RunnerResult at 0x7f6ed8d8ad10>"
            ]
          },
          "metadata": {},
          "execution_count": 13
        }
      ]
    },
    {
      "cell_type": "code",
      "source": [
        "! cat text-output-00000-of-00001.csv"
      ],
      "metadata": {
        "colab": {
          "base_uri": "https://localhost:8080/"
        },
        "id": "T_M6Zayy16my",
        "outputId": "c998f6a8-4c65-4cf4-cb46-06de92b67b91"
      },
      "execution_count": null,
      "outputs": [
        {
          "output_type": "stream",
          "name": "stdout",
          "text": [
            "1,John,NY,22\n",
            "2,Jim,LA,25\n",
            "3,Mary,NY,30\n",
            "4,Albert,LA,20\n",
            "5,Samza,NY,18\n",
            "6,Maria,NY,15\n",
            "7,Shreya,NY,30\n",
            "8,Kavita,LA,20\n",
            "9,Mona,NY,18\n",
            "10,Nandita,NY,15\n"
          ]
        }
      ]
    },
    {
      "cell_type": "markdown",
      "source": [
        "### [***Adding Map PTransform***](https://)\n",
        "\n",
        "Map Transformation is applied on every element of the input dataset and produces exactly one element per input.\n",
        "\n",
        "Let's add Map transformation \n",
        " \n",
        "\n",
        "1.   ***Get only customer name and country***\n",
        "2.   ***Change name of customers to upper case***"
      ],
      "metadata": {
        "id": "skdZ5RCD7-VN"
      }
    },
    {
      "cell_type": "code",
      "source": [
        "import apache_beam as beam\n",
        "\n",
        "p1 = beam.Pipeline()\n",
        "\n",
        "def getUpper(customers):\n",
        "  c = customers.split(\",\")\n",
        "  return c[1].upper(),c[2]\n",
        "\n",
        "customers = (\n",
        "    p1\n",
        "    |beam.io.ReadFromText('Customers_age.txt')\n",
        "    |beam.Map(lambda c: (c.split(\",\")[1].upper(),c.split(\",\")[2]))\n",
        "    |beam.io.WriteToText('map-output')\n",
        ")\n",
        "\n",
        "p1.run()"
      ],
      "metadata": {
        "colab": {
          "base_uri": "https://localhost:8080/"
        },
        "id": "8VBmr2cE9N-w",
        "outputId": "2d53c58e-6572-49d0-d1e7-e376b217e286"
      },
      "execution_count": null,
      "outputs": [
        {
          "output_type": "stream",
          "name": "stderr",
          "text": [
            "WARNING:root:Make sure that locally built Python SDK docker image has Python 3.7 interpreter.\n"
          ]
        },
        {
          "output_type": "execute_result",
          "data": {
            "text/plain": [
              "<apache_beam.runners.portability.fn_api_runner.fn_runner.RunnerResult at 0x7f3eeb155d50>"
            ]
          },
          "metadata": {},
          "execution_count": 86
        }
      ]
    },
    {
      "cell_type": "markdown",
      "source": [
        "**Let's check the output**"
      ],
      "metadata": {
        "id": "PBkpiOZ9AFUg"
      }
    },
    {
      "cell_type": "code",
      "source": [
        "! cat map-output-00000-of-00001"
      ],
      "metadata": {
        "colab": {
          "base_uri": "https://localhost:8080/"
        },
        "id": "zYDOSClk96Uq",
        "outputId": "9436be92-718d-448f-c761-b7ed21f0764f"
      },
      "execution_count": null,
      "outputs": [
        {
          "output_type": "stream",
          "name": "stdout",
          "text": [
            "('JOHN', 'NY')\n",
            "('JIM', 'LA')\n",
            "('MARY', 'NY')\n",
            "('ALBERT', 'LA')\n",
            "('SAMZA.NY', '18')\n",
            "('MARIA', 'NY')\n",
            "('SHREYA', 'NY')\n",
            "('KAVITA', 'LA')\n",
            "('MONA', 'NY')\n",
            "('NANDITA', 'NY')\n"
          ]
        }
      ]
    },
    {
      "cell_type": "markdown",
      "source": [
        "### [***Adding Filter PTransform***](https://)\n",
        "\n",
        "Filter Transformation is applied on every element to filter out only those records that matches the condition\n",
        "\n",
        "Let's add Filter transformation in above pipeline \n",
        " \n",
        "\n",
        "1.   ***Get only those customer whose country is NY***"
      ],
      "metadata": {
        "id": "B7BYrmX4AhDg"
      }
    },
    {
      "cell_type": "code",
      "source": [
        "import apache_beam as beam\n",
        "\n",
        "p1 = beam.Pipeline()\n",
        "\n",
        "def getUpper(customers):\n",
        "  c = customers.split(\",\")\n",
        "  return c[1].upper(),c[2]\n",
        "\n",
        "def filter_country(customers):\n",
        "  return customers[1]=='NY'\n",
        "\n",
        "customers = (\n",
        "    p1\n",
        "    |beam.io.ReadFromText('Customers_age.txt')\n",
        "    |beam.Map(getUpper)\n",
        "    |beam.Filter(filter_country)\n",
        "    |beam.io.WriteToText('filter-output')\n",
        ")\n",
        "\n",
        "p1.run()"
      ],
      "metadata": {
        "colab": {
          "base_uri": "https://localhost:8080/"
        },
        "id": "8fdyji0CA_7v",
        "outputId": "b62ace63-850a-4238-82c8-13b5ae8f1626"
      },
      "execution_count": null,
      "outputs": [
        {
          "output_type": "stream",
          "name": "stderr",
          "text": [
            "WARNING:root:Make sure that locally built Python SDK docker image has Python 3.7 interpreter.\n"
          ]
        },
        {
          "output_type": "execute_result",
          "data": {
            "text/plain": [
              "<apache_beam.runners.portability.fn_api_runner.fn_runner.RunnerResult at 0x7f3eea392690>"
            ]
          },
          "metadata": {},
          "execution_count": 40
        }
      ]
    },
    {
      "cell_type": "markdown",
      "source": [
        "***Let's check the output for above pipeline***"
      ],
      "metadata": {
        "id": "qodrlFQ8B-WX"
      }
    },
    {
      "cell_type": "code",
      "source": [
        "! cat filter-output-00000-of-00001"
      ],
      "metadata": {
        "colab": {
          "base_uri": "https://localhost:8080/"
        },
        "id": "twla4jhcB5gK",
        "outputId": "5c5096b3-7a8e-4134-e6b4-c2bc5aec9c4d"
      },
      "execution_count": null,
      "outputs": [
        {
          "output_type": "stream",
          "name": "stdout",
          "text": [
            "('JOHN', 'NY')\n",
            "('MARY', 'NY')\n",
            "('MARIA', 'NY')\n",
            "('SHREYA', 'NY')\n",
            "('MONA', 'NY')\n",
            "('NANDITA', 'NY')\n"
          ]
        }
      ]
    },
    {
      "cell_type": "markdown",
      "source": [
        "## [***Working with Schema***](https://)"
      ],
      "metadata": {
        "id": "cuOqnDh1NzNO"
      }
    },
    {
      "cell_type": "markdown",
      "source": [
        "**Let's now add schema to customers**"
      ],
      "metadata": {
        "id": "Y7iFkLGzUXb-"
      }
    },
    {
      "cell_type": "code",
      "source": [
        "import apache_beam as beam\n",
        "import typing\n",
        "\n",
        "class Customer(typing.NamedTuple):\n",
        "  id: int\n",
        "  name: str\n",
        "  country: str\n",
        "\n",
        "p1 = beam.Pipeline()\n",
        "\n",
        "def convert(customers):\n",
        "   c = customers.split(\",\")\n",
        "   return beam.Row(id=int(c[0]), name=c[1],country=c[2])\n",
        "   \n",
        "def getUpper(customer):\n",
        "  return beam.Row(id=customer.id, name=customer.name.upper(),country=customer.country)\n",
        "\n",
        "def filter_country(customer):\n",
        "  return customer.country=='NY'\n",
        "\n",
        "\n",
        "customers = (\n",
        "    p1\n",
        "    |beam.io.ReadFromText('Customers_age.txt')\n",
        "    |beam.Map(convert).with_output_types(Customer)\n",
        "    |beam.Map(getUpper).with_output_types(Customer)\n",
        "    |beam.Filter(filter_country)\n",
        "    |beam.io.WriteToText('schema-output')\n",
        ")\n",
        "\n",
        "p1.run()"
      ],
      "metadata": {
        "colab": {
          "base_uri": "https://localhost:8080/"
        },
        "id": "Lmp0uHV3N43z",
        "outputId": "8984f74f-cbcc-4536-bfff-71408113f784"
      },
      "execution_count": null,
      "outputs": [
        {
          "output_type": "stream",
          "name": "stderr",
          "text": [
            "WARNING:root:Make sure that locally built Python SDK docker image has Python 3.7 interpreter.\n"
          ]
        },
        {
          "output_type": "execute_result",
          "data": {
            "text/plain": [
              "<apache_beam.runners.portability.fn_api_runner.fn_runner.RunnerResult at 0x7f3eeaea4590>"
            ]
          },
          "metadata": {},
          "execution_count": 75
        }
      ]
    },
    {
      "cell_type": "markdown",
      "source": [
        "***Let's check the output of above pipeline***"
      ],
      "metadata": {
        "id": "kvtvTw1XUeCL"
      }
    },
    {
      "cell_type": "code",
      "source": [
        "! cat schema-output-00000-of-00001"
      ],
      "metadata": {
        "colab": {
          "base_uri": "https://localhost:8080/"
        },
        "id": "IlLSTVugUj0U",
        "outputId": "0d9864fb-5076-4ff5-9397-34e03bd66160"
      },
      "execution_count": null,
      "outputs": [
        {
          "output_type": "stream",
          "name": "stdout",
          "text": [
            "Row(id=1, name='JOHN', country='NY')\n",
            "Row(id=3, name='MARY', country='NY')\n",
            "Row(id=6, name='MARIA', country='NY')\n",
            "Row(id=7, name='SHREYA', country='NY')\n",
            "Row(id=9, name='MONA', country='NY')\n",
            "Row(id=10, name='NANDITA', country='NY')\n"
          ]
        }
      ]
    },
    {
      "cell_type": "markdown",
      "source": [
        "**Did you noticed above result is in Row, Let's format the output in text**"
      ],
      "metadata": {
        "id": "xG4am7XZWie9"
      }
    },
    {
      "cell_type": "code",
      "source": [
        "import apache_beam as beam\n",
        "import typing\n",
        "\n",
        "class Customer(typing.NamedTuple):\n",
        "  id: int\n",
        "  name: str\n",
        "  country: str\n",
        "\n",
        "p1 = beam.Pipeline()\n",
        "\n",
        "def convert(customers):\n",
        "   c = customers.split(\",\")\n",
        "   return beam.Row(id=int(c[0]), name=c[1],country=c[2])\n",
        "   \n",
        "def getUpper(customer):\n",
        "  return beam.Row(id=customer.id, name=customer.name.upper(),country=customer.country)\n",
        "\n",
        "def format(customer):\n",
        "  c1 = customer.name\n",
        "  c2 = customer.country\n",
        "  return c1 + \" lives in \" + c2\n",
        "\n",
        "\n",
        "def filter_country(customer):\n",
        "  return customer.country=='NY'\n",
        "\n",
        "\n",
        "customers = (\n",
        "    p1\n",
        "    |beam.io.ReadFromText('Customers_age.txt')\n",
        "    |beam.Map(convert).with_output_types(Customer)\n",
        "    |beam.Map(getUpper).with_output_types(Customer)\n",
        "    |beam.Filter(filter_country)\n",
        "    |beam.Map(format)\n",
        "    |beam.io.WriteToText('schema-output')\n",
        ")\n",
        "\n",
        "p1.run()"
      ],
      "metadata": {
        "colab": {
          "base_uri": "https://localhost:8080/"
        },
        "id": "WlrzhhENWgiM",
        "outputId": "c4fb38bb-9f9c-4a2b-cc20-56fd3cf8dca2"
      },
      "execution_count": null,
      "outputs": [
        {
          "output_type": "stream",
          "name": "stderr",
          "text": [
            "WARNING:root:Make sure that locally built Python SDK docker image has Python 3.7 interpreter.\n"
          ]
        },
        {
          "output_type": "execute_result",
          "data": {
            "text/plain": [
              "<apache_beam.runners.portability.fn_api_runner.fn_runner.RunnerResult at 0x7f3eeb537450>"
            ]
          },
          "metadata": {},
          "execution_count": 80
        }
      ]
    },
    {
      "cell_type": "code",
      "source": [
        "! cat schema-output-00000-of-00001"
      ],
      "metadata": {
        "colab": {
          "base_uri": "https://localhost:8080/"
        },
        "id": "RC1_BMJhW9l1",
        "outputId": "b8203085-66dd-483d-8a12-09d7d6d9054d"
      },
      "execution_count": null,
      "outputs": [
        {
          "output_type": "stream",
          "name": "stdout",
          "text": [
            "JOHN lives in NY\n",
            "MARY lives in NY\n",
            "MARIA lives in NY\n",
            "SHREYA lives in NY\n",
            "MONA lives in NY\n",
            "NANDITA lives in NY\n"
          ]
        }
      ]
    },
    {
      "cell_type": "markdown",
      "source": [
        "## **[PCollections from In memory](https://)**"
      ],
      "metadata": {
        "id": "Iab3i6ayaQQE"
      }
    },
    {
      "cell_type": "code",
      "source": [
        "import apache_beam as beam\n",
        "\n",
        "with beam.Pipeline() as pipeline:\n",
        "  country = (\n",
        "      pipeline\n",
        "      | beam.Create(['India','United States','China','Russia'])\n",
        "      | beam.Map(print)\n",
        "      )"
      ],
      "metadata": {
        "colab": {
          "base_uri": "https://localhost:8080/"
        },
        "id": "_MDG1CkVaOTM",
        "outputId": "28300695-dc39-4c51-cffa-d3a92282776b"
      },
      "execution_count": null,
      "outputs": [
        {
          "output_type": "stream",
          "name": "stderr",
          "text": [
            "WARNING:root:Make sure that locally built Python SDK docker image has Python 3.7 interpreter.\n"
          ]
        },
        {
          "output_type": "stream",
          "name": "stdout",
          "text": [
            "India\n",
            "United States\n",
            "China\n",
            "Russia\n"
          ]
        }
      ]
    },
    {
      "cell_type": "markdown",
      "source": [
        "## **[Working with Parquet Files](https://)**"
      ],
      "metadata": {
        "id": "xU5RSD9P3NU4"
      }
    },
    {
      "cell_type": "markdown",
      "source": [
        "class apache_beam.io.parquetio.***ReadFromParquetBatched***(file_pattern=None, min_bundle_size=0, validate=True, columns=None)\n",
        "\n",
        "Parameters:\t\n",
        "* ***file_pattern (str)*** – the file glob to read\n",
        "* ***min_bundle_size (int)*** – the minimum size in bytes, to be considered when splitting the input into bundles.\n",
        "* ***validate (bool) ***– flag to verify that the files exist during the pipeline creation time.\n",
        "* ***columns (List[str])*** – list of columns that will be read from files."
      ],
      "metadata": {
        "id": "AkyHyA3Q3SkK"
      }
    },
    {
      "cell_type": "markdown",
      "source": [
        "**This Apache Beam program reads a parquet file episodes.parquet**\n",
        "\n",
        "*  Filter out all items whose title starts with 'The'\n",
        "*  Output 'Title' in upper case followed by 'Doctor'\n",
        "* Output is saved in Text format\n",
        "\n",
        "\n",
        "\n"
      ],
      "metadata": {
        "id": "igbuxn6W5Acd"
      }
    },
    {
      "cell_type": "markdown",
      "source": [
        "***First, let's see what is inside episodes.parquet***"
      ],
      "metadata": {
        "id": "CCz7cUf35tXY"
      }
    },
    {
      "cell_type": "code",
      "source": [
        "import pandas as pd\n",
        "pd.read_parquet('episodes.parquet', engine='pyarrow')"
      ],
      "metadata": {
        "colab": {
          "base_uri": "https://localhost:8080/",
          "height": 238
        },
        "id": "LpkmdGtS4jZ7",
        "outputId": "ae5fb51f-dfe1-4473-fb8d-0d325524e96a"
      },
      "execution_count": null,
      "outputs": [
        {
          "output_type": "execute_result",
          "data": {
            "text/html": [
              "\n",
              "  <div id=\"df-32cc9a3b-3617-495d-a3d8-ee9e789bee4b\">\n",
              "    <div class=\"colab-df-container\">\n",
              "      <div>\n",
              "<style scoped>\n",
              "    .dataframe tbody tr th:only-of-type {\n",
              "        vertical-align: middle;\n",
              "    }\n",
              "\n",
              "    .dataframe tbody tr th {\n",
              "        vertical-align: top;\n",
              "    }\n",
              "\n",
              "    .dataframe thead th {\n",
              "        text-align: right;\n",
              "    }\n",
              "</style>\n",
              "<table border=\"1\" class=\"dataframe\">\n",
              "  <thead>\n",
              "    <tr style=\"text-align: right;\">\n",
              "      <th></th>\n",
              "      <th>title</th>\n",
              "      <th>air_date</th>\n",
              "      <th>doctor</th>\n",
              "    </tr>\n",
              "  </thead>\n",
              "  <tbody>\n",
              "    <tr>\n",
              "      <th>0</th>\n",
              "      <td>The Eleventh Hour</td>\n",
              "      <td>3 April 2010</td>\n",
              "      <td>11</td>\n",
              "    </tr>\n",
              "    <tr>\n",
              "      <th>1</th>\n",
              "      <td>The Doctor's Wife</td>\n",
              "      <td>14 May 2011</td>\n",
              "      <td>11</td>\n",
              "    </tr>\n",
              "    <tr>\n",
              "      <th>2</th>\n",
              "      <td>Horror of Fang Rock</td>\n",
              "      <td>3 September 1977</td>\n",
              "      <td>4</td>\n",
              "    </tr>\n",
              "    <tr>\n",
              "      <th>3</th>\n",
              "      <td>The Mysterious Planet</td>\n",
              "      <td>6 September 1986</td>\n",
              "      <td>6</td>\n",
              "    </tr>\n",
              "    <tr>\n",
              "      <th>4</th>\n",
              "      <td>Rose</td>\n",
              "      <td>26 March 2005</td>\n",
              "      <td>9</td>\n",
              "    </tr>\n",
              "    <tr>\n",
              "      <th>5</th>\n",
              "      <td>Castrolava</td>\n",
              "      <td>4 January 1982</td>\n",
              "      <td>5</td>\n",
              "    </tr>\n",
              "  </tbody>\n",
              "</table>\n",
              "</div>\n",
              "      <button class=\"colab-df-convert\" onclick=\"convertToInteractive('df-32cc9a3b-3617-495d-a3d8-ee9e789bee4b')\"\n",
              "              title=\"Convert this dataframe to an interactive table.\"\n",
              "              style=\"display:none;\">\n",
              "        \n",
              "  <svg xmlns=\"http://www.w3.org/2000/svg\" height=\"24px\"viewBox=\"0 0 24 24\"\n",
              "       width=\"24px\">\n",
              "    <path d=\"M0 0h24v24H0V0z\" fill=\"none\"/>\n",
              "    <path d=\"M18.56 5.44l.94 2.06.94-2.06 2.06-.94-2.06-.94-.94-2.06-.94 2.06-2.06.94zm-11 1L8.5 8.5l.94-2.06 2.06-.94-2.06-.94L8.5 2.5l-.94 2.06-2.06.94zm10 10l.94 2.06.94-2.06 2.06-.94-2.06-.94-.94-2.06-.94 2.06-2.06.94z\"/><path d=\"M17.41 7.96l-1.37-1.37c-.4-.4-.92-.59-1.43-.59-.52 0-1.04.2-1.43.59L10.3 9.45l-7.72 7.72c-.78.78-.78 2.05 0 2.83L4 21.41c.39.39.9.59 1.41.59.51 0 1.02-.2 1.41-.59l7.78-7.78 2.81-2.81c.8-.78.8-2.07 0-2.86zM5.41 20L4 18.59l7.72-7.72 1.47 1.35L5.41 20z\"/>\n",
              "  </svg>\n",
              "      </button>\n",
              "      \n",
              "  <style>\n",
              "    .colab-df-container {\n",
              "      display:flex;\n",
              "      flex-wrap:wrap;\n",
              "      gap: 12px;\n",
              "    }\n",
              "\n",
              "    .colab-df-convert {\n",
              "      background-color: #E8F0FE;\n",
              "      border: none;\n",
              "      border-radius: 50%;\n",
              "      cursor: pointer;\n",
              "      display: none;\n",
              "      fill: #1967D2;\n",
              "      height: 32px;\n",
              "      padding: 0 0 0 0;\n",
              "      width: 32px;\n",
              "    }\n",
              "\n",
              "    .colab-df-convert:hover {\n",
              "      background-color: #E2EBFA;\n",
              "      box-shadow: 0px 1px 2px rgba(60, 64, 67, 0.3), 0px 1px 3px 1px rgba(60, 64, 67, 0.15);\n",
              "      fill: #174EA6;\n",
              "    }\n",
              "\n",
              "    [theme=dark] .colab-df-convert {\n",
              "      background-color: #3B4455;\n",
              "      fill: #D2E3FC;\n",
              "    }\n",
              "\n",
              "    [theme=dark] .colab-df-convert:hover {\n",
              "      background-color: #434B5C;\n",
              "      box-shadow: 0px 1px 3px 1px rgba(0, 0, 0, 0.15);\n",
              "      filter: drop-shadow(0px 1px 2px rgba(0, 0, 0, 0.3));\n",
              "      fill: #FFFFFF;\n",
              "    }\n",
              "  </style>\n",
              "\n",
              "      <script>\n",
              "        const buttonEl =\n",
              "          document.querySelector('#df-32cc9a3b-3617-495d-a3d8-ee9e789bee4b button.colab-df-convert');\n",
              "        buttonEl.style.display =\n",
              "          google.colab.kernel.accessAllowed ? 'block' : 'none';\n",
              "\n",
              "        async function convertToInteractive(key) {\n",
              "          const element = document.querySelector('#df-32cc9a3b-3617-495d-a3d8-ee9e789bee4b');\n",
              "          const dataTable =\n",
              "            await google.colab.kernel.invokeFunction('convertToInteractive',\n",
              "                                                     [key], {});\n",
              "          if (!dataTable) return;\n",
              "\n",
              "          const docLinkHtml = 'Like what you see? Visit the ' +\n",
              "            '<a target=\"_blank\" href=https://colab.research.google.com/notebooks/data_table.ipynb>data table notebook</a>'\n",
              "            + ' to learn more about interactive tables.';\n",
              "          element.innerHTML = '';\n",
              "          dataTable['output_type'] = 'display_data';\n",
              "          await google.colab.output.renderOutput(dataTable, element);\n",
              "          const docLink = document.createElement('div');\n",
              "          docLink.innerHTML = docLinkHtml;\n",
              "          element.appendChild(docLink);\n",
              "        }\n",
              "      </script>\n",
              "    </div>\n",
              "  </div>\n",
              "  "
            ],
            "text/plain": [
              "                   title          air_date  doctor\n",
              "0      The Eleventh Hour      3 April 2010      11\n",
              "1      The Doctor's Wife       14 May 2011      11\n",
              "2    Horror of Fang Rock  3 September 1977       4\n",
              "3  The Mysterious Planet  6 September 1986       6\n",
              "4                   Rose     26 March 2005       9\n",
              "5             Castrolava    4 January 1982       5"
            ]
          },
          "metadata": {},
          "execution_count": 6
        }
      ]
    },
    {
      "cell_type": "markdown",
      "source": [
        "***Let's write the pipeline to***\n",
        "\n",
        "* Let's only read Title and doctor columns\n",
        "* Filter out all items whose title starts with 'The'\n",
        "*  Output 'Title' in upper case followed by 'Doctor'\n",
        "* Output is saved in Text format\n"
      ],
      "metadata": {
        "id": "2vv_3Xj96OND"
      }
    },
    {
      "cell_type": "code",
      "source": [
        "import apache_beam as beam\n",
        "\n",
        "def getTitle(episodes):\n",
        "  return episodes['title'].startswith('The')\n",
        "\n",
        "def formatOutput(episodes):\n",
        "  return episodes['title'].upper(),episodes['doctor']\n",
        "\n",
        "p1 = beam.Pipeline()\n",
        "customers = (\n",
        "    p1\n",
        "    |beam.io.ReadFromParquet(file_pattern='episodes.parquet',columns=['doctor','title'])\n",
        "    |beam.Filter(getTitle)\n",
        "    |beam.Map(formatOutput)\n",
        "    |beam.io.WriteToText('parquet-output')\n",
        ")\n",
        "p1.run()"
      ],
      "metadata": {
        "colab": {
          "base_uri": "https://localhost:8080/"
        },
        "id": "TQvFdHJ56Ju7",
        "outputId": "1fb6ea49-76ee-45cb-9153-c8f51f9601b6"
      },
      "execution_count": null,
      "outputs": [
        {
          "output_type": "stream",
          "name": "stderr",
          "text": [
            "WARNING:root:Make sure that locally built Python SDK docker image has Python 3.7 interpreter.\n"
          ]
        },
        {
          "output_type": "execute_result",
          "data": {
            "text/plain": [
              "<apache_beam.runners.portability.fn_api_runner.fn_runner.RunnerResult at 0x7f3eeaddc590>"
            ]
          },
          "metadata": {},
          "execution_count": 42
        }
      ]
    },
    {
      "cell_type": "markdown",
      "source": [
        "***Let's check the results of above pipeline***"
      ],
      "metadata": {
        "id": "U-UkMSKH6hyw"
      }
    },
    {
      "cell_type": "code",
      "source": [
        "! cat parquet-output-00000-of-00001"
      ],
      "metadata": {
        "colab": {
          "base_uri": "https://localhost:8080/"
        },
        "id": "S6ba90s46aAe",
        "outputId": "15d8ae67-f520-47be-d76f-78447b7e4b64"
      },
      "execution_count": null,
      "outputs": [
        {
          "output_type": "stream",
          "name": "stdout",
          "text": [
            "('THE ELEVENTH HOUR', 11)\n",
            "(\"THE DOCTOR'S WIFE\", 11)\n",
            "('THE MYSTERIOUS PLANET', 6)\n"
          ]
        }
      ]
    },
    {
      "cell_type": "markdown",
      "source": [
        "***Now, this let's save the results in Parquet file format***\n",
        "\n",
        "To write the output in Parquet format, we have to define pyarrow schema\n",
        "\n",
        "Also the output should be made as dictionary"
      ],
      "metadata": {
        "id": "ncWTMLOe6shz"
      }
    },
    {
      "cell_type": "markdown",
      "source": [
        "class apache_beam.io.parquetio.***WriteToParquet***(\n",
        "* file_path_prefix,\n",
        "* schema, \n",
        "* row_group_buffer_size=67108864, \n",
        "* record_batch_size=1000, \n",
        "* codec='none', \n",
        "* use_deprecated_int96_timestamps=False, \n",
        "* file_name_suffix='', \n",
        "* num_shards=0, \n",
        "* shard_name_template=None, \n",
        "* mime_type='application/x-parquet')"
      ],
      "metadata": {
        "id": "yw_LueFRKE4b"
      }
    },
    {
      "cell_type": "code",
      "source": [
        "import apache_beam as beam\n",
        "import pyarrow\n",
        "\n",
        "def getTitle(episodes):\n",
        "  return episodes['title'].startswith('The')\n",
        "\n",
        "def formatOutput(episodes):\n",
        "  return {'title': episodes['title'].upper(), 'doctor': episodes['doctor']}\n",
        "\n",
        "schema =  pyarrow.schema(\n",
        "          [('title', pyarrow.binary()), ('doctor', pyarrow.int64())]\n",
        "      )\n",
        "\n",
        "p1 = beam.Pipeline()\n",
        "customers = (\n",
        "    p1\n",
        "    |beam.io.ReadFromParquet('episodes.parquet')\n",
        "    |beam.Filter(getTitle)\n",
        "    |beam.Map(formatOutput)\n",
        "    |'Write' >> beam.io.WriteToParquet('myoutput',schema,codec='snappy')\n",
        ")\n",
        "p1.run()"
      ],
      "metadata": {
        "colab": {
          "base_uri": "https://localhost:8080/"
        },
        "id": "ExlfQWGf60X_",
        "outputId": "b0e5c954-a7c3-494e-b999-180629576840"
      },
      "execution_count": null,
      "outputs": [
        {
          "output_type": "stream",
          "name": "stderr",
          "text": [
            "WARNING:root:Make sure that locally built Python SDK docker image has Python 3.7 interpreter.\n"
          ]
        },
        {
          "output_type": "execute_result",
          "data": {
            "text/plain": [
              "<apache_beam.runners.portability.fn_api_runner.fn_runner.RunnerResult at 0x7f3eead46c50>"
            ]
          },
          "metadata": {},
          "execution_count": 44
        }
      ]
    },
    {
      "cell_type": "markdown",
      "source": [
        "***Let's check the results of above pipeline***"
      ],
      "metadata": {
        "id": "YkzmEK8-7Lbz"
      }
    },
    {
      "cell_type": "code",
      "source": [
        "import pandas as pd\n",
        "pd.read_parquet('myoutput-00000-of-00001', engine='pyarrow')"
      ],
      "metadata": {
        "colab": {
          "base_uri": "https://localhost:8080/",
          "height": 143
        },
        "id": "BZ1WcNtD7O3N",
        "outputId": "29ebf3eb-1ca9-48b3-82af-32d70fff093c"
      },
      "execution_count": null,
      "outputs": [
        {
          "output_type": "execute_result",
          "data": {
            "text/html": [
              "\n",
              "  <div id=\"df-8b0605fb-b516-447b-ac92-1482bce05c29\">\n",
              "    <div class=\"colab-df-container\">\n",
              "      <div>\n",
              "<style scoped>\n",
              "    .dataframe tbody tr th:only-of-type {\n",
              "        vertical-align: middle;\n",
              "    }\n",
              "\n",
              "    .dataframe tbody tr th {\n",
              "        vertical-align: top;\n",
              "    }\n",
              "\n",
              "    .dataframe thead th {\n",
              "        text-align: right;\n",
              "    }\n",
              "</style>\n",
              "<table border=\"1\" class=\"dataframe\">\n",
              "  <thead>\n",
              "    <tr style=\"text-align: right;\">\n",
              "      <th></th>\n",
              "      <th>title</th>\n",
              "      <th>doctor</th>\n",
              "    </tr>\n",
              "  </thead>\n",
              "  <tbody>\n",
              "    <tr>\n",
              "      <th>0</th>\n",
              "      <td>b'THE ELEVENTH HOUR'</td>\n",
              "      <td>11</td>\n",
              "    </tr>\n",
              "    <tr>\n",
              "      <th>1</th>\n",
              "      <td>b\"THE DOCTOR'S WIFE\"</td>\n",
              "      <td>11</td>\n",
              "    </tr>\n",
              "    <tr>\n",
              "      <th>2</th>\n",
              "      <td>b'THE MYSTERIOUS PLANET'</td>\n",
              "      <td>6</td>\n",
              "    </tr>\n",
              "  </tbody>\n",
              "</table>\n",
              "</div>\n",
              "      <button class=\"colab-df-convert\" onclick=\"convertToInteractive('df-8b0605fb-b516-447b-ac92-1482bce05c29')\"\n",
              "              title=\"Convert this dataframe to an interactive table.\"\n",
              "              style=\"display:none;\">\n",
              "        \n",
              "  <svg xmlns=\"http://www.w3.org/2000/svg\" height=\"24px\"viewBox=\"0 0 24 24\"\n",
              "       width=\"24px\">\n",
              "    <path d=\"M0 0h24v24H0V0z\" fill=\"none\"/>\n",
              "    <path d=\"M18.56 5.44l.94 2.06.94-2.06 2.06-.94-2.06-.94-.94-2.06-.94 2.06-2.06.94zm-11 1L8.5 8.5l.94-2.06 2.06-.94-2.06-.94L8.5 2.5l-.94 2.06-2.06.94zm10 10l.94 2.06.94-2.06 2.06-.94-2.06-.94-.94-2.06-.94 2.06-2.06.94z\"/><path d=\"M17.41 7.96l-1.37-1.37c-.4-.4-.92-.59-1.43-.59-.52 0-1.04.2-1.43.59L10.3 9.45l-7.72 7.72c-.78.78-.78 2.05 0 2.83L4 21.41c.39.39.9.59 1.41.59.51 0 1.02-.2 1.41-.59l7.78-7.78 2.81-2.81c.8-.78.8-2.07 0-2.86zM5.41 20L4 18.59l7.72-7.72 1.47 1.35L5.41 20z\"/>\n",
              "  </svg>\n",
              "      </button>\n",
              "      \n",
              "  <style>\n",
              "    .colab-df-container {\n",
              "      display:flex;\n",
              "      flex-wrap:wrap;\n",
              "      gap: 12px;\n",
              "    }\n",
              "\n",
              "    .colab-df-convert {\n",
              "      background-color: #E8F0FE;\n",
              "      border: none;\n",
              "      border-radius: 50%;\n",
              "      cursor: pointer;\n",
              "      display: none;\n",
              "      fill: #1967D2;\n",
              "      height: 32px;\n",
              "      padding: 0 0 0 0;\n",
              "      width: 32px;\n",
              "    }\n",
              "\n",
              "    .colab-df-convert:hover {\n",
              "      background-color: #E2EBFA;\n",
              "      box-shadow: 0px 1px 2px rgba(60, 64, 67, 0.3), 0px 1px 3px 1px rgba(60, 64, 67, 0.15);\n",
              "      fill: #174EA6;\n",
              "    }\n",
              "\n",
              "    [theme=dark] .colab-df-convert {\n",
              "      background-color: #3B4455;\n",
              "      fill: #D2E3FC;\n",
              "    }\n",
              "\n",
              "    [theme=dark] .colab-df-convert:hover {\n",
              "      background-color: #434B5C;\n",
              "      box-shadow: 0px 1px 3px 1px rgba(0, 0, 0, 0.15);\n",
              "      filter: drop-shadow(0px 1px 2px rgba(0, 0, 0, 0.3));\n",
              "      fill: #FFFFFF;\n",
              "    }\n",
              "  </style>\n",
              "\n",
              "      <script>\n",
              "        const buttonEl =\n",
              "          document.querySelector('#df-8b0605fb-b516-447b-ac92-1482bce05c29 button.colab-df-convert');\n",
              "        buttonEl.style.display =\n",
              "          google.colab.kernel.accessAllowed ? 'block' : 'none';\n",
              "\n",
              "        async function convertToInteractive(key) {\n",
              "          const element = document.querySelector('#df-8b0605fb-b516-447b-ac92-1482bce05c29');\n",
              "          const dataTable =\n",
              "            await google.colab.kernel.invokeFunction('convertToInteractive',\n",
              "                                                     [key], {});\n",
              "          if (!dataTable) return;\n",
              "\n",
              "          const docLinkHtml = 'Like what you see? Visit the ' +\n",
              "            '<a target=\"_blank\" href=https://colab.research.google.com/notebooks/data_table.ipynb>data table notebook</a>'\n",
              "            + ' to learn more about interactive tables.';\n",
              "          element.innerHTML = '';\n",
              "          dataTable['output_type'] = 'display_data';\n",
              "          await google.colab.output.renderOutput(dataTable, element);\n",
              "          const docLink = document.createElement('div');\n",
              "          docLink.innerHTML = docLinkHtml;\n",
              "          element.appendChild(docLink);\n",
              "        }\n",
              "      </script>\n",
              "    </div>\n",
              "  </div>\n",
              "  "
            ],
            "text/plain": [
              "                      title  doctor\n",
              "0      b'THE ELEVENTH HOUR'      11\n",
              "1      b\"THE DOCTOR'S WIFE\"      11\n",
              "2  b'THE MYSTERIOUS PLANET'       6"
            ]
          },
          "metadata": {},
          "execution_count": 45
        }
      ]
    },
    {
      "cell_type": "code",
      "source": [
        ""
      ],
      "metadata": {
        "id": "dTSHQu7i3h5f"
      },
      "execution_count": null,
      "outputs": []
    },
    {
      "cell_type": "markdown",
      "source": [
        "# Core Transforms"
      ],
      "metadata": {
        "id": "S7tIme-W2jHa"
      }
    },
    {
      "cell_type": "markdown",
      "source": [
        "## [***FlatMap***](https://)\n",
        "\n",
        "This process every input element  and outputs a list of zero or more elements."
      ],
      "metadata": {
        "id": "KhSgZq7irxmM"
      }
    },
    {
      "cell_type": "code",
      "source": [
        "import apache_beam as beam\n",
        "\n",
        "p1 = beam.Pipeline()\n",
        "\n",
        "def getUpper(customers):\n",
        "  c = customers.split(\",\")\n",
        "  return c[1].upper(),c[2]\n",
        "\n",
        "customers = (\n",
        "    p1\n",
        "    |beam.io.ReadFromText('Peter_Piper.txt')\n",
        "    |beam.FlatMap(lambda c: c.split(\",\"))\n",
        "    |beam.io.WriteToText('flatmap-output')\n",
        ")\n",
        "\n",
        "p1.run()"
      ],
      "metadata": {
        "colab": {
          "base_uri": "https://localhost:8080/",
          "height": 91
        },
        "id": "fv2MbGVGsU3O",
        "outputId": "98ddbe04-a8a4-42a3-c039-25aabc6f3b4e"
      },
      "execution_count": null,
      "outputs": [
        {
          "output_type": "stream",
          "name": "stderr",
          "text": [
            "WARNING:apache_beam.runners.interactive.interactive_environment:Dependencies required for Interactive Beam PCollection visualization are not available, please use: `pip install apache-beam[interactive]` to install necessary dependencies to enable all data visualization features.\n"
          ]
        },
        {
          "output_type": "display_data",
          "data": {
            "application/javascript": [
              "\n",
              "        if (typeof window.interactive_beam_jquery == 'undefined') {\n",
              "          var jqueryScript = document.createElement('script');\n",
              "          jqueryScript.src = 'https://code.jquery.com/jquery-3.4.1.slim.min.js';\n",
              "          jqueryScript.type = 'text/javascript';\n",
              "          jqueryScript.onload = function() {\n",
              "            var datatableScript = document.createElement('script');\n",
              "            datatableScript.src = 'https://cdn.datatables.net/1.10.20/js/jquery.dataTables.min.js';\n",
              "            datatableScript.type = 'text/javascript';\n",
              "            datatableScript.onload = function() {\n",
              "              window.interactive_beam_jquery = jQuery.noConflict(true);\n",
              "              window.interactive_beam_jquery(document).ready(function($){\n",
              "                \n",
              "              });\n",
              "            }\n",
              "            document.head.appendChild(datatableScript);\n",
              "          };\n",
              "          document.head.appendChild(jqueryScript);\n",
              "        } else {\n",
              "          window.interactive_beam_jquery(document).ready(function($){\n",
              "            \n",
              "          });\n",
              "        }"
            ]
          },
          "metadata": {}
        },
        {
          "output_type": "stream",
          "name": "stderr",
          "text": [
            "WARNING:root:Make sure that locally built Python SDK docker image has Python 3.7 interpreter.\n"
          ]
        },
        {
          "output_type": "execute_result",
          "data": {
            "text/plain": [
              "<apache_beam.runners.portability.fn_api_runner.fn_runner.RunnerResult at 0x7f0a5a364ed0>"
            ]
          },
          "metadata": {},
          "execution_count": 3
        }
      ]
    },
    {
      "cell_type": "markdown",
      "source": [
        "**Running the above code using Map Transform**"
      ],
      "metadata": {
        "id": "zbOUS4FNbwKB"
      }
    },
    {
      "cell_type": "code",
      "source": [
        "import apache_beam as beam\n",
        "\n",
        "p1 = beam.Pipeline()\n",
        "\n",
        "def getUpper(customers):\n",
        "  c = customers.split(\",\")\n",
        "  return c[1].upper(),c[2]\n",
        "\n",
        "customers = (\n",
        "    p1\n",
        "    |beam.io.ReadFromText('Peter_Piper.txt')\n",
        "    |beam.Map(lambda c: c.split(\",\"))\n",
        "    |beam.io.WriteToText('map-output')\n",
        ")\n",
        "\n",
        "p1.run()"
      ],
      "metadata": {
        "colab": {
          "base_uri": "https://localhost:8080/"
        },
        "id": "4aXqzWIYtNk-",
        "outputId": "fd2807b7-7571-4430-ed73-f7349527cee2"
      },
      "execution_count": null,
      "outputs": [
        {
          "output_type": "stream",
          "name": "stderr",
          "text": [
            "WARNING:root:Make sure that locally built Python SDK docker image has Python 3.7 interpreter.\n"
          ]
        },
        {
          "output_type": "execute_result",
          "data": {
            "text/plain": [
              "<apache_beam.runners.portability.fn_api_runner.fn_runner.RunnerResult at 0x7f0a5a056e90>"
            ]
          },
          "metadata": {},
          "execution_count": 4
        }
      ]
    },
    {
      "cell_type": "markdown",
      "source": [
        "**Let's see the difference in output**"
      ],
      "metadata": {
        "id": "bFxeZRk_b3zq"
      }
    },
    {
      "cell_type": "code",
      "source": [
        "! cat /content/map-output-00000-of-00001"
      ],
      "metadata": {
        "colab": {
          "base_uri": "https://localhost:8080/"
        },
        "id": "-ixusP6rtEZw",
        "outputId": "87bc9d1e-1dec-4047-cfd6-8a1ffd815bda"
      },
      "execution_count": null,
      "outputs": [
        {
          "output_type": "stream",
          "name": "stdout",
          "text": [
            "['peter piper picked a peck of pickled pepper']\n",
            "['a peck of pickled pepper peter piper picked']\n",
            "['if peter piper picked a peck of pickled pepper']\n",
            "[\"where's the peck of pickled pepper peter piper picked\"]\n"
          ]
        }
      ]
    },
    {
      "cell_type": "code",
      "source": [
        "cat /content/flatmap-output-00000-of-00001"
      ],
      "metadata": {
        "colab": {
          "base_uri": "https://localhost:8080/"
        },
        "id": "JYleAxrubnfV",
        "outputId": "398c565f-18b5-43e3-ae26-11b68b04a0de"
      },
      "execution_count": null,
      "outputs": [
        {
          "output_type": "stream",
          "name": "stdout",
          "text": [
            "peter piper picked a peck of pickled pepper\n",
            "a peck of pickled pepper peter piper picked\n",
            "if peter piper picked a peck of pickled pepper\n",
            "where's the peck of pickled pepper peter piper picked\n"
          ]
        }
      ]
    },
    {
      "cell_type": "markdown",
      "source": [
        "## **[Partition Transform](https://)**\n",
        "\n",
        "Separates elements in a collection into multiple output collections. The partitioning function contains the logic that determines how to separate the elements of the input collection into each resulting partition output collection."
      ],
      "metadata": {
        "id": "fDtTiYUGcIdy"
      }
    },
    {
      "cell_type": "code",
      "source": [
        "import apache_beam as beam\n",
        "\n",
        "p = beam.Pipeline()\n",
        "number = {1,2,3,4,5,6,7,8}\n",
        "\n",
        "def partition_fn(element,num_partition):\n",
        "  return 0 if element%2 ==0 else 1\n",
        "\n",
        "\n",
        "number_pc = p| beam.Create(number)| beam.Partition(partition_fn,2)\n",
        "\n",
        "print(\"Printing First Partition\")\n",
        "number_pc[0]| 'Printing first partition' >> beam.Map(print)\n",
        "\n",
        "p.run()"
      ],
      "metadata": {
        "colab": {
          "base_uri": "https://localhost:8080/"
        },
        "id": "iL7-Y_UFdaWV",
        "outputId": "b2029aff-33f8-4cc5-bc41-6999d1d5cc55"
      },
      "execution_count": null,
      "outputs": [
        {
          "output_type": "stream",
          "name": "stderr",
          "text": [
            "WARNING:root:Make sure that locally built Python SDK docker image has Python 3.7 interpreter.\n"
          ]
        },
        {
          "output_type": "stream",
          "name": "stdout",
          "text": [
            "Printing First Partition\n",
            "2\n",
            "4\n",
            "6\n",
            "8\n"
          ]
        },
        {
          "output_type": "execute_result",
          "data": {
            "text/plain": [
              "<apache_beam.runners.portability.fn_api_runner.fn_runner.RunnerResult at 0x7f0a5a0ec690>"
            ]
          },
          "metadata": {},
          "execution_count": 11
        }
      ]
    },
    {
      "cell_type": "code",
      "source": [
        "import apache_beam as beam\n",
        "\n",
        "p1 = beam.Pipeline()\n",
        "\n",
        "def partition_fn(element,num_partition):\n",
        "  return 0 if element[2] =='NY' else 1\n",
        "\n",
        "customers = (\n",
        "    p1\n",
        "    |beam.io.ReadFromText('Customers_age.txt')\n",
        "    |beam.Map(lambda c: (c.split(\",\")))\n",
        "    |beam.Partition(partition_fn,2)\n",
        ")\n",
        "\n",
        "customers[0]| 'Printing  partition with Newyork' >> beam.Map(print)\n",
        "\n",
        "p1.run()"
      ],
      "metadata": {
        "colab": {
          "base_uri": "https://localhost:8080/"
        },
        "id": "6yPkadAHe_MH",
        "outputId": "117a3092-0a64-4012-d201-6ff43ce28e98"
      },
      "execution_count": null,
      "outputs": [
        {
          "output_type": "stream",
          "name": "stderr",
          "text": [
            "WARNING:root:Make sure that locally built Python SDK docker image has Python 3.7 interpreter.\n"
          ]
        },
        {
          "output_type": "stream",
          "name": "stdout",
          "text": [
            "['1', 'John', 'NY', '22']\n",
            "['3', 'Mary', 'NY', '30']\n",
            "['5', 'Samza', 'NY', '18']\n",
            "['6', 'Maria', 'NY', '15']\n",
            "['7', 'Shreya', 'NY', '30']\n",
            "['9', 'Mona', 'NY', '18']\n",
            "['10', 'Nandita', 'NY', '15']\n"
          ]
        },
        {
          "output_type": "execute_result",
          "data": {
            "text/plain": [
              "<apache_beam.runners.portability.fn_api_runner.fn_runner.RunnerResult at 0x7f0a59c4b7d0>"
            ]
          },
          "metadata": {},
          "execution_count": 16
        }
      ]
    },
    {
      "cell_type": "code",
      "source": [
        "! cat /content/partition-output-00000-of-00001"
      ],
      "metadata": {
        "colab": {
          "base_uri": "https://localhost:8080/"
        },
        "id": "95306bsCgSoT",
        "outputId": "edec1178-bcc7-4440-c73d-fcd4b3576172"
      },
      "execution_count": null,
      "outputs": [
        {
          "output_type": "stream",
          "name": "stdout",
          "text": [
            "<apache_beam.pvalue._InvalidUnpickledPCollection object at 0x7f0a59b9f610>\n",
            "<apache_beam.pvalue._InvalidUnpickledPCollection object at 0x7f0a59b9f110>\n"
          ]
        }
      ]
    },
    {
      "cell_type": "markdown",
      "source": [
        "## **[ParDo Transform](https://)**\n",
        "\n",
        "*ParDo is a Beam transform for generic parallel processing.It considers each element in the input PCollection, performs some processing function (your user code) on that element, and emits zero, one, or multiple elements to an output.*\n",
        "\n",
        "ParDo is useful for a variety of common data processing operations, including:\n",
        "\n",
        "* ***Filtering a data set***. \n",
        "You can use ParDo to consider each element in a PCollection and either output that element to a new collection or discard it.\n",
        "\n",
        "* ***Formatting or type-converting each element in a data set.*** \n",
        "If your input PCollection contains elements that are of a different type or format than you want, you can use ParDo to perform a conversion on each element and output the result to a new PCollection.\n",
        "\n",
        "* ***Extracting parts of each element in a data set.*** \n",
        "If you have a PCollection of records with multiple fields, for example, you can use a ParDo to parse out just the fields you want to consider into a new PCollection.\n",
        "\n",
        "* ***Performing computations on each element in a data set.*** \n",
        "You can use ParDo to perform simple or complex computations on every element, or certain elements, of a PCollection and output the results as a new PCollection.\n"
      ],
      "metadata": {
        "id": "AKfRW66T3JWZ"
      }
    },
    {
      "cell_type": "markdown",
      "source": [
        "***In the below pipeline, we are using simple Map and Filter Transforms ***\n",
        "\n",
        "* To get all customers fromm newyork whose age is greater than 20"
      ],
      "metadata": {
        "id": "J9BqOEPK8In6"
      }
    },
    {
      "cell_type": "code",
      "source": [
        "import apache_beam as beam\n",
        "\n",
        "p1 = beam.Pipeline()\n",
        "\n",
        "def filter_country(customers):\n",
        "  return customers[1]=='NY'\n",
        "\n",
        "customers = (\n",
        "    p1\n",
        "    |beam.io.ReadFromText('Customers_age.txt')\n",
        "    |beam.Map(lambda c: (c.split(\",\")))\n",
        "    |beam.Filter(filter_country)\n",
        "    |beam.io.WriteToText('filter-output')\n",
        ")\n",
        "\n",
        "p1.run()"
      ],
      "metadata": {
        "colab": {
          "base_uri": "https://localhost:8080/"
        },
        "id": "ShFeRzwo4QF6",
        "outputId": "12eea8e5-ba4a-47a7-8dc6-9528887f0234"
      },
      "execution_count": null,
      "outputs": [
        {
          "output_type": "stream",
          "name": "stderr",
          "text": [
            "WARNING:root:Make sure that locally built Python SDK docker image has Python 3.7 interpreter.\n"
          ]
        },
        {
          "output_type": "execute_result",
          "data": {
            "text/plain": [
              "<apache_beam.runners.portability.fn_api_runner.fn_runner.RunnerResult at 0x7fa0bf466a90>"
            ]
          },
          "metadata": {},
          "execution_count": 22
        }
      ]
    },
    {
      "cell_type": "code",
      "source": [
        "! cat /content/filter-output-00000-of-00001"
      ],
      "metadata": {
        "colab": {
          "base_uri": "https://localhost:8080/"
        },
        "id": "F1qvMFyj7JNw",
        "outputId": "89e025d4-7682-460b-9ad1-522e3da9b62b"
      },
      "execution_count": null,
      "outputs": [
        {
          "output_type": "stream",
          "name": "stdout",
          "text": [
            "['1', 'John', 'NY', '22']\n",
            "['3', 'Mary', 'NY', '30']\n",
            "['7', 'Shreya', 'NY', '30']\n"
          ]
        }
      ]
    },
    {
      "cell_type": "markdown",
      "source": [
        "***Let's change the above Map and Filter Transforms into Pardo***"
      ],
      "metadata": {
        "id": "XfAzqLBA4EAR"
      }
    },
    {
      "cell_type": "code",
      "source": [
        "import apache_beam as beam\n",
        "\n",
        "p1 = beam.Pipeline()\n",
        "\n",
        "# The DoFn to perform on each element in the input PCollection.\n",
        "\n",
        "class SplitRow(beam.DoFn):\n",
        "  def process(self,element):\n",
        "    return [element.split(',')]\n",
        "\n",
        "class FilterCustomer(beam.DoFn):\n",
        "  def process(self,element):\n",
        "    if element[2]=='NY' and int(element[3])>20:\n",
        "      return [element]\n",
        "\n",
        "\n",
        "customers = (\n",
        "    p1\n",
        "    |beam.io.ReadFromText('Customers_age.txt')\n",
        "    |beam.ParDo(SplitRow())\n",
        "    |beam.ParDo(FilterCustomer())\n",
        "    |beam.io.WriteToText('pardo-output')\n",
        ")\n",
        "\n",
        "p1.run()"
      ],
      "metadata": {
        "colab": {
          "base_uri": "https://localhost:8080/"
        },
        "id": "8wCSidG84SkE",
        "outputId": "22c6109d-7565-4cfc-fcaf-47ef5e83fe8a"
      },
      "execution_count": null,
      "outputs": [
        {
          "output_type": "stream",
          "name": "stderr",
          "text": [
            "WARNING:root:Make sure that locally built Python SDK docker image has Python 3.7 interpreter.\n"
          ]
        },
        {
          "output_type": "execute_result",
          "data": {
            "text/plain": [
              "<apache_beam.runners.portability.fn_api_runner.fn_runner.RunnerResult at 0x7fa0ba79fd90>"
            ]
          },
          "metadata": {},
          "execution_count": 9
        }
      ]
    },
    {
      "cell_type": "markdown",
      "source": [
        ""
      ],
      "metadata": {
        "id": "83MdQVd1NsNC"
      }
    },
    {
      "cell_type": "code",
      "source": [
        "! cat /content/pardo-output-00000-of-00001"
      ],
      "metadata": {
        "colab": {
          "base_uri": "https://localhost:8080/"
        },
        "id": "giaiwYvf6EZA",
        "outputId": "ee93b91f-b5d6-407d-8007-5b5c63de4473"
      },
      "execution_count": null,
      "outputs": [
        {
          "output_type": "stream",
          "name": "stdout",
          "text": [
            "['1', 'John', 'NY', '22']\n",
            "['3', 'Mary', 'NY', '30']\n",
            "['7', 'Shreya', 'NY', '30']\n"
          ]
        }
      ]
    },
    {
      "cell_type": "markdown",
      "source": [
        "### **DoFn LifeCycle**\n",
        "You may use a DoFn just for a map function. For that, overwrite the process method and you are good to go.\n",
        "\n",
        "However, there are many more methods that you can override to control the lifecycle of a DoFn: creation of the worker, start of a new bundle, end of a new bundle, deletion of the worker, and of course, process of every element.\n",
        "\n",
        "The setup and teardown methods will be executed only once per worker.\n",
        "\n",
        "The start_bundle and finish_bundle will be executed once by data bundle"
      ],
      "metadata": {
        "id": "8n-WGd9VNy-t"
      }
    },
    {
      "cell_type": "code",
      "source": [
        "\n",
        "import apache_beam as beam\n",
        "from datetime import datetime\n",
        "\n",
        "\n",
        "p1 = beam.Pipeline()\n",
        "\n",
        "class sampleDoFn(beam.DoFn):\n",
        "  def process(self, element):\n",
        "    print(\"Processing element: %s\" % element)\n",
        "    yield element.upper()\n",
        "\n",
        "  def start_bundle(self):\n",
        "    print(\"Bundle started\")\n",
        "\n",
        "  def finish_bundle(self):\n",
        "    print(\"Bundle finished\")\n",
        "\n",
        "  def setup(self):\n",
        "    dt_string = datetime.now().strftime(\"%d/%m/%Y %H:%M:%S\")\n",
        "    print(\"Worker started %s\" % dt_string)\n",
        "\n",
        "  def teardown(self):\n",
        "    dt_string = datetime.now().strftime(\"%d/%m/%Y %H:%M:%S\")    \n",
        "    print(\"Worker finished %s\" % dt_string)\n",
        "\n",
        "\n",
        "customers = (\n",
        "    p1\n",
        "    |beam.io.ReadFromText('Customers_age.txt')\n",
        "    |beam.ParDo(sampleDoFn())\n",
        "    |beam.io.WriteToText('pardo-output')\n",
        ")\n",
        "\n",
        "p1.run()"
      ],
      "metadata": {
        "colab": {
          "base_uri": "https://localhost:8080/"
        },
        "id": "fPJZM0nONxsE",
        "outputId": "de996e1c-7359-484a-9e8b-3dd9157c5046"
      },
      "execution_count": null,
      "outputs": [
        {
          "output_type": "stream",
          "name": "stderr",
          "text": [
            "WARNING:root:Make sure that locally built Python SDK docker image has Python 3.7 interpreter.\n"
          ]
        },
        {
          "output_type": "stream",
          "name": "stdout",
          "text": [
            "Worker started 14/02/2022 12:35:23\n",
            "Bundle started\n",
            "Processing element: 1,John,NY,22\n",
            "Processing element: 2,Jim,LA,25\n",
            "Processing element: 3,Mary,NY,30\n",
            "Processing element: 4,Albert,LA,20\n",
            "Processing element: 5,Samza,NY,18\n",
            "Processing element: 6,Maria,NY,15\n",
            "Processing element: 7,Shreya,NY,30\n",
            "Processing element: 8,Kavita,LA,20\n",
            "Processing element: 9,Mona,NY,18\n",
            "Processing element: 10,Nandita,NY,15\n",
            "Bundle finished\n",
            "Worker finished 14/02/2022 12:35:24\n"
          ]
        },
        {
          "output_type": "execute_result",
          "data": {
            "text/plain": [
              "<apache_beam.runners.portability.fn_api_runner.fn_runner.RunnerResult at 0x7f6ed73b5ad0>"
            ]
          },
          "metadata": {},
          "execution_count": 44
        }
      ]
    },
    {
      "cell_type": "markdown",
      "source": [
        "***Let's change the below code to ParDo ***"
      ],
      "metadata": {
        "id": "A2oxauqlAzuh"
      }
    },
    {
      "cell_type": "code",
      "source": [
        "import apache_beam as beam\n",
        "\n",
        "p1 = beam.Pipeline()\n",
        "\n",
        "def getUpper(customers):\n",
        "  c = customers.split(\",\")\n",
        "  return c[1].upper(),c[2]\n",
        "\n",
        "def filter_country(customers):\n",
        "  return customers[1]=='NY'\n",
        "\n",
        "customers = (\n",
        "    p1\n",
        "    |beam.io.ReadFromText('Customers_age.txt')\n",
        "    |beam.Map(getUpper)\n",
        "    |beam.Filter(filter_country)\n",
        "    |beam.io.WriteToText('filter-output')\n",
        ")\n",
        "\n",
        "p1.run()"
      ],
      "metadata": {
        "id": "VDp_GiHR8szk"
      },
      "execution_count": null,
      "outputs": []
    },
    {
      "cell_type": "code",
      "source": [
        "import apache_beam as beam\n",
        "\n",
        "p1 = beam.Pipeline()\n",
        "\n",
        "# The DoFn to perform on each element in the input PCollection.\n",
        "\n",
        "class FilterAndTransformCustomer(beam.DoFn):\n",
        "  def process(self,element):\n",
        "    element = element.split(\",\")\n",
        "    if element[2]=='NY' and int(element[3])>20:\n",
        "      element[1] = element[1].upper()\n",
        "      return [element]\n",
        "\n",
        "\n",
        "customers = (\n",
        "    p1\n",
        "    |beam.io.ReadFromText('Customers_age.txt')\n",
        "    |beam.ParDo(FilterAndTransformCustomer())\n",
        "    |beam.io.WriteToText('pardo-output')\n",
        ")\n",
        "\n",
        "p1.run()"
      ],
      "metadata": {
        "colab": {
          "base_uri": "https://localhost:8080/"
        },
        "id": "IkLBL1gO8t3e",
        "outputId": "789626cb-8b4a-41a0-a274-ed69d713b9ac"
      },
      "execution_count": null,
      "outputs": [
        {
          "output_type": "stream",
          "name": "stderr",
          "text": [
            "WARNING:root:Make sure that locally built Python SDK docker image has Python 3.7 interpreter.\n"
          ]
        },
        {
          "output_type": "execute_result",
          "data": {
            "text/plain": [
              "<apache_beam.runners.portability.fn_api_runner.fn_runner.RunnerResult at 0x7fa0b9721850>"
            ]
          },
          "metadata": {},
          "execution_count": 63
        }
      ]
    },
    {
      "cell_type": "code",
      "source": [
        "cat pardo-output-00000-of-00001"
      ],
      "metadata": {
        "colab": {
          "base_uri": "https://localhost:8080/"
        },
        "id": "ckBwQqbA9eaw",
        "outputId": "dba7aedf-73d6-4371-8613-d212ef006570"
      },
      "execution_count": null,
      "outputs": [
        {
          "output_type": "stream",
          "name": "stdout",
          "text": [
            "['1', 'JOHN', 'NY', '22']\n",
            "['3', 'MARY', 'NY', '30']\n",
            "['7', 'SHREYA', 'NY', '30']\n"
          ]
        }
      ]
    },
    {
      "cell_type": "markdown",
      "source": [
        "### [**Side Inputs in ParDo**](https://)\n",
        "\n",
        "*In addition to the main input PCollection, you can provide additional inputs to a ParDo transform in the form of side inputs. A side input is an additional input that your DoFn can access each time it processes an element in the input PCollection.*\n",
        "\n",
        "*Additional data can be determined at runtime (and not hard-coded). Such values might be determined by the input data, or depend on a different branch of your pipeline.*\n",
        "\n",
        "A side input is nothing more nothing less than a PCollection that can be used as an additional input to ParDo transform. However, unlike normal (processed) PCollection, the side input is a global and immutable view of underlaid PCollection. It obviously means that it can't change after computation. It can be used every time when we need to join additional datasets to the processed one or broadcast some common values (e.g. a dictionary) to the processing functions."
      ],
      "metadata": {
        "id": "vNA405qCCAZb"
      }
    },
    {
      "cell_type": "markdown",
      "source": [
        "**Passing static values as side inputs**"
      ],
      "metadata": {
        "id": "nACQ_tRsDAru"
      }
    },
    {
      "cell_type": "code",
      "source": [
        "import apache_beam as beam\n",
        "\n",
        "p1 = beam.Pipeline()\n",
        "\n",
        "# The DoFn to perform on each element in the input PCollection.\n",
        "\n",
        "class FilterAndTransformCustomer(beam.DoFn):\n",
        "  def process(self,element,country,age):\n",
        "    element = element.split(\",\")\n",
        "    if element[2]==country and int(element[3])>age:\n",
        "      element[1] = element[1].upper()\n",
        "      return [element]\n",
        "\n",
        "\n",
        "customers = (\n",
        "    p1\n",
        "    |beam.io.ReadFromText('Customers_age.txt')\n",
        "    |beam.ParDo(FilterAndTransformCustomer(),\"NY\",20)\n",
        "    |beam.io.WriteToText('pardo-output')\n",
        ")\n",
        "\n",
        "p1.run()"
      ],
      "metadata": {
        "colab": {
          "base_uri": "https://localhost:8080/"
        },
        "outputId": "4cb25b8f-ea24-4fcf-e96f-0c689361a24d",
        "id": "9utsZ5YVDK-v"
      },
      "execution_count": null,
      "outputs": [
        {
          "output_type": "stream",
          "name": "stderr",
          "text": [
            "WARNING:root:Make sure that locally built Python SDK docker image has Python 3.7 interpreter.\n"
          ]
        },
        {
          "output_type": "execute_result",
          "data": {
            "text/plain": [
              "<apache_beam.runners.portability.fn_api_runner.fn_runner.RunnerResult at 0x7fa0ba04f250>"
            ]
          },
          "metadata": {},
          "execution_count": 65
        }
      ]
    },
    {
      "cell_type": "code",
      "source": [
        "! cat pardo-output-00000-of-00001"
      ],
      "metadata": {
        "colab": {
          "base_uri": "https://localhost:8080/"
        },
        "id": "t1cB57scDb6m",
        "outputId": "9cbe259c-6b07-4ae9-b3a9-f8b736e6daed"
      },
      "execution_count": null,
      "outputs": [
        {
          "output_type": "stream",
          "name": "stdout",
          "text": [
            "['1', 'JOHN', 'NY', '22']\n",
            "['3', 'MARY', 'NY', '30']\n",
            "['7', 'SHREYA', 'NY', '30']\n"
          ]
        }
      ]
    },
    {
      "cell_type": "markdown",
      "source": [
        "***Generating Side inputs at runtime from another pipeline***\n",
        "\n",
        "In the below code\n",
        "* First, we will generate mean average of ratings\n",
        "* Second, we will pass that mean average as side input\n",
        "* Finally, we will compare and filter out those movies whose rating is greater than mean average"
      ],
      "metadata": {
        "id": "h9I3FOQeDhhJ"
      }
    },
    {
      "cell_type": "code",
      "source": [
        "import apache_beam as beam\n",
        "\n",
        "\n",
        "class SplitRow(beam.DoFn):\n",
        "  def process(self,element):\n",
        "    return [element.split(',')]\n",
        "\n",
        "class MoviesAboveAvgRating(beam.DoFn):\n",
        "  def process(self,element,avg_rating):\n",
        "      if float(element[2]) > avg_rating:\n",
        "        return [element]\n",
        "\n",
        "p1 = beam.Pipeline()\n",
        "\n",
        "ratings = (p1 \n",
        "           |'Read ratings ' >> beam.io.ReadFromText('ratings.csv')\n",
        "           |'Split Rows' >> beam.ParDo(SplitRow()))\n",
        "\n",
        "mean_rating = beam.pvalue.AsSingleton(\n",
        "   ratings\n",
        "    |'Extract ratings' >>  beam.Map(lambda rating: float(rating[2])) \n",
        "    |'Find mean ratings' >> beam.combiners.Mean.Globally())\n",
        "\n",
        "above_average_ratings = (\n",
        "    ratings \n",
        "    |beam.ParDo(MoviesAboveAvgRating(),mean_rating)\n",
        "    |beam.io.WriteToText('movies-above-avg')\n",
        ")\n",
        "\n",
        "\n",
        "\n",
        "p1.run()"
      ],
      "metadata": {
        "colab": {
          "base_uri": "https://localhost:8080/"
        },
        "id": "Extx1VIgRXqK",
        "outputId": "fb296949-9429-4b6c-9647-a08e70054b28"
      },
      "execution_count": null,
      "outputs": [
        {
          "output_type": "stream",
          "name": "stderr",
          "text": [
            "WARNING:root:Make sure that locally built Python SDK docker image has Python 3.7 interpreter.\n"
          ]
        },
        {
          "output_type": "execute_result",
          "data": {
            "text/plain": [
              "<apache_beam.runners.portability.fn_api_runner.fn_runner.RunnerResult at 0x7fa0b4b77cd0>"
            ]
          },
          "metadata": {},
          "execution_count": 100
        }
      ]
    },
    {
      "cell_type": "markdown",
      "source": [
        "***Let's Send both Static and dyanmic values as Side Inputs***\n",
        "\n",
        "In the below code\n",
        "* First, we will generate mean average of ratings\n",
        "* Second, we will pass that mean average and movie_id as side input\n",
        "* Finally, we will compare and filter out those movies whose rating is greater than mean average"
      ],
      "metadata": {
        "id": "RkiGxZ4FmxmL"
      }
    },
    {
      "cell_type": "code",
      "source": [
        "import apache_beam as beam\n",
        "\n",
        "\n",
        "class SplitRow(beam.DoFn):\n",
        "  def process(self,element):\n",
        "    return [element.split(',')]\n",
        "\n",
        "class MoviesAboveAvgRating(beam.DoFn):\n",
        "  def process(self,element,avg_rating,movieId):\n",
        "      if float(element[2]) > avg_rating and int(element[0])>100:\n",
        "        return [element]\n",
        "\n",
        "p1 = beam.Pipeline()\n",
        "\n",
        "ratings = (p1 \n",
        "           |'Read ratings ' >> beam.io.ReadFromText('ratings.csv')\n",
        "           |'Split Rows' >> beam.ParDo(SplitRow()))\n",
        "\n",
        "mean_rating = beam.pvalue.AsSingleton(\n",
        "   ratings\n",
        "    |'Extract ratings' >>  beam.Map(lambda rating: float(rating[2])) \n",
        "    |'Find mean ratings' >> beam.combiners.Mean.Globally())\n",
        "\n",
        "above_average_ratings = (\n",
        "    ratings \n",
        "    |beam.ParDo(MoviesAboveAvgRating(),mean_rating,100)\n",
        "    |beam.io.WriteToText('movies-above-avg')\n",
        ")\n",
        "\n",
        "\n",
        "\n",
        "p1.run()"
      ],
      "metadata": {
        "colab": {
          "base_uri": "https://localhost:8080/"
        },
        "id": "qSbsemXHmw7K",
        "outputId": "a80b2311-c1e0-4de8-a412-7283045fe358"
      },
      "execution_count": null,
      "outputs": [
        {
          "output_type": "stream",
          "name": "stderr",
          "text": [
            "WARNING:root:Make sure that locally built Python SDK docker image has Python 3.7 interpreter.\n"
          ]
        },
        {
          "output_type": "execute_result",
          "data": {
            "text/plain": [
              "<apache_beam.runners.portability.fn_api_runner.fn_runner.RunnerResult at 0x7fa0b42ac1d0>"
            ]
          },
          "metadata": {},
          "execution_count": 102
        }
      ]
    },
    {
      "cell_type": "markdown",
      "source": [
        "### **[Side Outputs in ParDo](https://)**"
      ],
      "metadata": {
        "id": "XU73QdAP3hxR"
      }
    },
    {
      "cell_type": "code",
      "source": [
        "import apache_beam as beam\n",
        "p1 = beam.Pipeline()\n",
        "\n",
        "side_list = list()\n",
        "with open ('customers_exclude.txt','r') as exclude_file:\n",
        "  for cust_id in exclude_file:\n",
        "    side_list.append(cust_id.rstrip())\n",
        "\n",
        "print(side_list)\n",
        "\n",
        "class SplitRow(beam.DoFn):\n",
        "  def process(self,element,side_list):\n",
        "    customer = element.split(',')\n",
        "    if customer[0] not in side_list:\n",
        "      return [customer]\n",
        "\n",
        "class ProcessCustomers(beam.DoFn):\n",
        "  def process(self,element,country,start_char):\n",
        "    if(element[2]=='NY'):\n",
        "      yield  element\n",
        "    else:\n",
        "      yield  beam.pvalue.TaggedOutput('Other_Cust',element)\n",
        "    if(element[1].startswith('J')):\n",
        "       yield  beam.pvalue.TaggedOutput('Names_J',element)\n",
        "  \n",
        "\n",
        "\n",
        "customers = (\n",
        "    p1\n",
        "    |beam.io.ReadFromText('Customers_age.txt')\n",
        "    |beam.ParDo(SplitRow(),side_list)\n",
        "    |beam.ParDo(ProcessCustomers(),country='NY',start_char='J').with_outputs('Names_J','Other_Cust',main='NewYork_Cust')\n",
        ")\n",
        "\n",
        "newyork_customers = customers.NewYork_Cust\n",
        "other_customers = customers.Other_Cust\n",
        "customer_withname_J = customers.Names_J\n",
        "\n",
        "newyork_customers | 'Write Newyork Customers PCollection' >> beam.io.WriteToText(\"newyork\")\n",
        "other_customers  | 'Write Customers PCollection that lives in other cities' >> beam.io.WriteToText(\"customers_other_cities\")\n",
        "customer_withname_J  | 'Write Customers names with J PCollection' >> beam.io.WriteToText(\"customers_names_j\")\n",
        "\n",
        "\n",
        "p1.run()"
      ],
      "metadata": {
        "colab": {
          "base_uri": "https://localhost:8080/",
          "height": 110
        },
        "id": "2xQYybjq3q6C",
        "outputId": "bcc4c4f1-1d63-4edb-f6fb-ae46f576a978"
      },
      "execution_count": null,
      "outputs": [
        {
          "output_type": "stream",
          "name": "stderr",
          "text": [
            "WARNING:apache_beam.runners.interactive.interactive_environment:Dependencies required for Interactive Beam PCollection visualization are not available, please use: `pip install apache-beam[interactive]` to install necessary dependencies to enable all data visualization features.\n"
          ]
        },
        {
          "output_type": "stream",
          "name": "stdout",
          "text": [
            "['3', '7', '10']\n"
          ]
        },
        {
          "output_type": "display_data",
          "data": {
            "application/javascript": [
              "\n",
              "        if (typeof window.interactive_beam_jquery == 'undefined') {\n",
              "          var jqueryScript = document.createElement('script');\n",
              "          jqueryScript.src = 'https://code.jquery.com/jquery-3.4.1.slim.min.js';\n",
              "          jqueryScript.type = 'text/javascript';\n",
              "          jqueryScript.onload = function() {\n",
              "            var datatableScript = document.createElement('script');\n",
              "            datatableScript.src = 'https://cdn.datatables.net/1.10.20/js/jquery.dataTables.min.js';\n",
              "            datatableScript.type = 'text/javascript';\n",
              "            datatableScript.onload = function() {\n",
              "              window.interactive_beam_jquery = jQuery.noConflict(true);\n",
              "              window.interactive_beam_jquery(document).ready(function($){\n",
              "                \n",
              "              });\n",
              "            }\n",
              "            document.head.appendChild(datatableScript);\n",
              "          };\n",
              "          document.head.appendChild(jqueryScript);\n",
              "        } else {\n",
              "          window.interactive_beam_jquery(document).ready(function($){\n",
              "            \n",
              "          });\n",
              "        }"
            ]
          },
          "metadata": {}
        },
        {
          "output_type": "stream",
          "name": "stderr",
          "text": [
            "WARNING:root:Make sure that locally built Python SDK docker image has Python 3.7 interpreter.\n"
          ]
        },
        {
          "output_type": "execute_result",
          "data": {
            "text/plain": [
              "<apache_beam.runners.portability.fn_api_runner.fn_runner.RunnerResult at 0x7fca4195ed90>"
            ]
          },
          "metadata": {},
          "execution_count": 3
        }
      ]
    },
    {
      "cell_type": "code",
      "source": [
        "! cat newyork-00000-of-00001"
      ],
      "metadata": {
        "colab": {
          "base_uri": "https://localhost:8080/"
        },
        "id": "zs5cclt63wYB",
        "outputId": "8b3b6f29-aa21-4305-9d8d-763c11add760"
      },
      "execution_count": null,
      "outputs": [
        {
          "output_type": "stream",
          "name": "stdout",
          "text": [
            "['1', 'John', 'NY', '22']\n",
            "['5', 'Samza', 'NY', '18']\n",
            "['6', 'Maria', 'NY', '15']\n",
            "['9', 'Mona', 'NY', '18']\n"
          ]
        }
      ]
    },
    {
      "cell_type": "code",
      "source": [
        "!cat customers_names_j-00000-of-00001"
      ],
      "metadata": {
        "colab": {
          "base_uri": "https://localhost:8080/"
        },
        "id": "htMS2AZD3yEU",
        "outputId": "650764d3-910c-46d7-92b3-5f76f0310d33"
      },
      "execution_count": null,
      "outputs": [
        {
          "output_type": "stream",
          "name": "stdout",
          "text": [
            "['1', 'John', 'NY', '22']\n",
            "['2', 'Jim', 'LA', '25']\n"
          ]
        }
      ]
    },
    {
      "cell_type": "code",
      "source": [
        "!cat customers_other_cities-00000-of-00001"
      ],
      "metadata": {
        "colab": {
          "base_uri": "https://localhost:8080/"
        },
        "id": "t9r2p_j_3zZ3",
        "outputId": "5a85526e-c391-4c47-acde-bfddf8a29516"
      },
      "execution_count": null,
      "outputs": [
        {
          "output_type": "stream",
          "name": "stdout",
          "text": [
            "['2', 'Jim', 'LA', '25']\n",
            "['4', 'Albert', 'LA', '20']\n",
            "['8', 'Kavita', 'LA', '20']\n"
          ]
        }
      ]
    },
    {
      "cell_type": "markdown",
      "source": [
        "## **[Regex Transforms](https://)**\n",
        "\n"
      ],
      "metadata": {
        "id": "jtW7pXpQg92d"
      }
    },
    {
      "cell_type": "markdown",
      "source": [
        "**Regex Find**\n",
        "\n",
        "Regex.find keeps only the elements that match the regular expression, returning the matched group."
      ],
      "metadata": {
        "id": "iKS9pTNCiHpr"
      }
    },
    {
      "cell_type": "code",
      "source": [
        "import apache_beam as beam\n",
        "\n",
        "# Matches a named group 'icon', and then two comma-separated groups.\n",
        "regex = r'(?P<icon>[^\\s,]+), *(\\w+), *(\\w+)'\n",
        "with beam.Pipeline() as pipeline:\n",
        "  plants_find_all = (\n",
        "      pipeline\n",
        "      | 'Garden plants' >> beam.Create([\n",
        "          'Strawberry, perennial',\n",
        "          '# 🥕, Carrot, biennial ignoring trailing words',\n",
        "          '# 🍆, Eggplant, perennial - 🍌, Banana, perennial',\n",
        "          '# 🍅, Tomato- 🍉, Watermelon, annual',\n",
        "          '# 🥔, Potato, perennial',\n",
        "      ])\n",
        "      | 'Parse plants' >> beam.Regex.find(regex)\n",
        "      | beam.Map(print))"
      ],
      "metadata": {
        "colab": {
          "base_uri": "https://localhost:8080/"
        },
        "id": "IrLZReC5iDLy",
        "outputId": "b1936be9-0be9-4f4d-a643-45ceb7b29266"
      },
      "execution_count": null,
      "outputs": [
        {
          "output_type": "stream",
          "name": "stderr",
          "text": [
            "WARNING:root:Make sure that locally built Python SDK docker image has Python 3.7 interpreter.\n"
          ]
        },
        {
          "output_type": "stream",
          "name": "stdout",
          "text": [
            "🥕, Carrot, biennial\n",
            "🍆, Eggplant, perennial\n",
            "🍉, Watermelon, annual\n",
            "🥔, Potato, perennial\n"
          ]
        }
      ]
    },
    {
      "cell_type": "markdown",
      "source": [
        "**Regex.find_all**\n",
        "\n",
        "Regex.find_all returns a list of all the matches of the regular expression, returning the matched group"
      ],
      "metadata": {
        "id": "Ymu_aJ9FlYUL"
      }
    },
    {
      "cell_type": "code",
      "source": [
        "import apache_beam as beam\n",
        "\n",
        "# Matches a named group 'icon', and then two comma-separated groups.\n",
        "regex = r'(?P<icon>[^\\s,]+), *(\\w+), *(\\w+)'\n",
        "with beam.Pipeline() as pipeline:\n",
        "  plants_find_all = (\n",
        "      pipeline\n",
        "      | 'Garden plants' >> beam.Create([\n",
        "          'Strawberry, perennial',\n",
        "          '# 🥕, Carrot, biennial ignoring trailing words',\n",
        "          '# 🍆, Eggplant, perennial - 🍌, Banana, perennial',\n",
        "          '# 🍅, Tomato- 🍉, Watermelon, annual',\n",
        "          '# 🥔, Potato, perennial',\n",
        "      ])\n",
        "      | 'Parse plants' >> beam.Regex.find_all(regex)\n",
        "      | beam.Map(print))"
      ],
      "metadata": {
        "colab": {
          "base_uri": "https://localhost:8080/"
        },
        "id": "xejU6ERsk-OS",
        "outputId": "0188d6f0-c749-4811-e09a-8c71a5548d19"
      },
      "execution_count": null,
      "outputs": [
        {
          "output_type": "stream",
          "name": "stderr",
          "text": [
            "WARNING:root:Make sure that locally built Python SDK docker image has Python 3.7 interpreter.\n"
          ]
        },
        {
          "output_type": "stream",
          "name": "stdout",
          "text": [
            "[]\n",
            "['🥕, Carrot, biennial']\n",
            "['🍆, Eggplant, perennial', '🍌, Banana, perennial']\n",
            "['🍉, Watermelon, annual']\n",
            "['🥔, Potato, perennial']\n"
          ]
        }
      ]
    },
    {
      "cell_type": "markdown",
      "source": [
        "**Regex.replace_all**\n",
        "\n",
        "Regex.replace_all returns the string with all the occurrences of the regular expression replaced by another string"
      ],
      "metadata": {
        "id": "nWTu8SjRlkcN"
      }
    },
    {
      "cell_type": "code",
      "source": [
        "import apache_beam as beam\n",
        "\n",
        "with beam.Pipeline() as pipeline:\n",
        "  plants_replace_all = (\n",
        "      pipeline\n",
        "      | 'Garden plants' >> beam.Create([\n",
        "          '🍓 : Strawberry : perennial',\n",
        "          '🥕 : Carrot : biennial',\n",
        "          '🍆\\t:\\tEggplant\\t:\\tperennial',\n",
        "          '🍅 : Tomato : annual',\n",
        "          '🥔 : Potato : perennial',\n",
        "      ])\n",
        "      | 'To CSV' >> beam.Regex.replace_all(r'\\s*:\\s*', ',')\n",
        "      | beam.Map(print))"
      ],
      "metadata": {
        "colab": {
          "base_uri": "https://localhost:8080/"
        },
        "id": "qYHIPsy5kV7X",
        "outputId": "173e8884-f75f-4ede-9816-ea0019190080"
      },
      "execution_count": null,
      "outputs": [
        {
          "output_type": "stream",
          "name": "stderr",
          "text": [
            "WARNING:root:Make sure that locally built Python SDK docker image has Python 3.7 interpreter.\n"
          ]
        },
        {
          "output_type": "stream",
          "name": "stdout",
          "text": [
            "🍓,Strawberry,perennial\n",
            "🥕,Carrot,biennial\n",
            "🍆,Eggplant,perennial\n",
            "🍅,Tomato,annual\n",
            "🥔,Potato,perennial\n"
          ]
        }
      ]
    },
    {
      "cell_type": "markdown",
      "source": [
        "***Regex.replace_first***\n",
        "\n",
        "Regex.replace_first returns the string with the first occurrence of the regular expression replaced by another string"
      ],
      "metadata": {
        "id": "bEfFXfUwl8hs"
      }
    },
    {
      "cell_type": "code",
      "source": [
        "import apache_beam as beam\n",
        "\n",
        "with beam.Pipeline() as pipeline:\n",
        "  plants_replace_first = (\n",
        "      pipeline\n",
        "      | 'Garden plants' >> beam.Create([\n",
        "          '🍓, Strawberry, perennial',\n",
        "          '🥕, Carrot, biennial',\n",
        "          '🍆,\\tEggplant, perennial',\n",
        "          '🍅, Tomato, annual',\n",
        "          '🥔, Potato, perennial',\n",
        "      ])\n",
        "      | 'As dictionary' >> beam.Regex.replace_first(r'\\s*,\\s*', ': ')\n",
        "      | beam.Map(print))"
      ],
      "metadata": {
        "colab": {
          "base_uri": "https://localhost:8080/"
        },
        "id": "4JRxrMA4l2UL",
        "outputId": "764013a8-6dc3-476a-a198-c6b95779f54c"
      },
      "execution_count": null,
      "outputs": [
        {
          "output_type": "stream",
          "name": "stderr",
          "text": [
            "WARNING:root:Make sure that locally built Python SDK docker image has Python 3.7 interpreter.\n"
          ]
        },
        {
          "output_type": "stream",
          "name": "stdout",
          "text": [
            "🍓: Strawberry, perennial\n",
            "🥕: Carrot, biennial\n",
            "🍆: Eggplant, perennial\n",
            "🍅: Tomato, annual\n",
            "🥔: Potato, perennial\n"
          ]
        }
      ]
    },
    {
      "cell_type": "markdown",
      "source": [
        "***Regex.split***\n",
        "\n",
        "Regex.split returns the list of strings that were delimited by the specified regular expression."
      ],
      "metadata": {
        "id": "hIAxw3v6mU0y"
      }
    },
    {
      "cell_type": "code",
      "source": [
        "import apache_beam as beam\n",
        "\n",
        "with beam.Pipeline() as pipeline:\n",
        "  plants_split = (\n",
        "      pipeline\n",
        "      | 'Garden plants' >> beam.Create([\n",
        "          '🍓 : Strawberry , perennial',\n",
        "          '🥕 : Carrot : biennial',\n",
        "          '🍆\\t:\\tEggplant : perennial',\n",
        "          '🍅 : Tomato : annual',\n",
        "          '🥔 : Potato : perennial',\n",
        "      ])\n",
        "      | 'Parse plants' >> beam.Regex.split(r'\\s*:\\s*')\n",
        "      | beam.Map(print))"
      ],
      "metadata": {
        "colab": {
          "base_uri": "https://localhost:8080/"
        },
        "id": "CWYCV15jmHHW",
        "outputId": "b3723538-c7aa-4b42-9434-c9a72e877627"
      },
      "execution_count": null,
      "outputs": [
        {
          "output_type": "stream",
          "name": "stderr",
          "text": [
            "WARNING:root:Make sure that locally built Python SDK docker image has Python 3.7 interpreter.\n"
          ]
        },
        {
          "output_type": "stream",
          "name": "stdout",
          "text": [
            "['🍓', 'Strawberry , perennial']\n",
            "['🥕', 'Carrot', 'biennial']\n",
            "['🍆', 'Eggplant', 'perennial']\n",
            "['🍅', 'Tomato', 'annual']\n",
            "['🥔', 'Potato', 'perennial']\n"
          ]
        }
      ]
    },
    {
      "cell_type": "markdown",
      "source": [
        "## **[Values Transform](https://)**\n",
        "\n",
        "Takes a collection of key-value pairs, and returns the value of each element\n",
        "\n"
      ],
      "metadata": {
        "id": "ft1UBASmnFfZ"
      }
    },
    {
      "cell_type": "code",
      "source": [
        "import apache_beam as beam\n",
        "\n",
        "with beam.Pipeline() as pipeline:\n",
        "  plants = (\n",
        "      pipeline\n",
        "      | 'Garden plants' >> beam.Create([\n",
        "          ('🍓', 'Strawberry'),\n",
        "          ('🥕', 'Carrot'),\n",
        "          ('🍆', 'Eggplant'),\n",
        "          ('🍅', 'Tomato'),\n",
        "          ('🥔', 'Potato'),\n",
        "      ])\n",
        "      | 'Values' >> beam.Values()\n",
        "      | beam.Map(print))"
      ],
      "metadata": {
        "colab": {
          "base_uri": "https://localhost:8080/"
        },
        "id": "3dF_Rgq1na6G",
        "outputId": "cf9a7059-86ac-448c-9928-d70bd82863af"
      },
      "execution_count": null,
      "outputs": [
        {
          "output_type": "stream",
          "name": "stderr",
          "text": [
            "WARNING:root:Make sure that locally built Python SDK docker image has Python 3.7 interpreter.\n"
          ]
        },
        {
          "output_type": "stream",
          "name": "stdout",
          "text": [
            "Strawberry\n",
            "Carrot\n",
            "Eggplant\n",
            "Tomato\n",
            "Potato\n"
          ]
        }
      ]
    },
    {
      "cell_type": "markdown",
      "source": [
        "# **Aggregations**"
      ],
      "metadata": {
        "id": "_H48x6DPn2iq"
      }
    },
    {
      "cell_type": "markdown",
      "source": [
        "## **[GroupBy](https://)**\n",
        "\n",
        "**Grouping is way to group data based on some column.**"
      ],
      "metadata": {
        "id": "TnXmm32-oWbl"
      }
    },
    {
      "cell_type": "markdown",
      "source": [
        "In below example, we will group customers data based on country"
      ],
      "metadata": {
        "id": "kiuGOkzt6uCt"
      }
    },
    {
      "cell_type": "code",
      "source": [
        "import apache_beam as beam\n",
        "\n",
        "p1 = beam.Pipeline()\n",
        "\n",
        "ratings = (p1 \n",
        "           |'Read ratings ' >> beam.io.ReadFromText('Customers_age.txt')\n",
        "           |'Split Rows' >> beam.Map(lambda c: c.split(\",\"))\n",
        "           |'GroupBy Ratings' >> beam.GroupBy(lambda c: c[2])\n",
        "           |'Write Grouped Data' >> beam.io.WriteToText('customer-grouped')\n",
        "           )\n",
        "\n",
        "\n",
        "p1.run()"
      ],
      "metadata": {
        "colab": {
          "base_uri": "https://localhost:8080/",
          "height": 91
        },
        "id": "wKaEKZ0V7HKX",
        "outputId": "688e68f0-a668-4a9f-8bd0-ebaec0859180"
      },
      "execution_count": null,
      "outputs": [
        {
          "output_type": "stream",
          "name": "stderr",
          "text": [
            "WARNING:apache_beam.runners.interactive.interactive_environment:Dependencies required for Interactive Beam PCollection visualization are not available, please use: `pip install apache-beam[interactive]` to install necessary dependencies to enable all data visualization features.\n"
          ]
        },
        {
          "output_type": "display_data",
          "data": {
            "application/javascript": [
              "\n",
              "        if (typeof window.interactive_beam_jquery == 'undefined') {\n",
              "          var jqueryScript = document.createElement('script');\n",
              "          jqueryScript.src = 'https://code.jquery.com/jquery-3.4.1.slim.min.js';\n",
              "          jqueryScript.type = 'text/javascript';\n",
              "          jqueryScript.onload = function() {\n",
              "            var datatableScript = document.createElement('script');\n",
              "            datatableScript.src = 'https://cdn.datatables.net/1.10.20/js/jquery.dataTables.min.js';\n",
              "            datatableScript.type = 'text/javascript';\n",
              "            datatableScript.onload = function() {\n",
              "              window.interactive_beam_jquery = jQuery.noConflict(true);\n",
              "              window.interactive_beam_jquery(document).ready(function($){\n",
              "                \n",
              "              });\n",
              "            }\n",
              "            document.head.appendChild(datatableScript);\n",
              "          };\n",
              "          document.head.appendChild(jqueryScript);\n",
              "        } else {\n",
              "          window.interactive_beam_jquery(document).ready(function($){\n",
              "            \n",
              "          });\n",
              "        }"
            ]
          },
          "metadata": {}
        },
        {
          "output_type": "stream",
          "name": "stderr",
          "text": [
            "WARNING:root:Make sure that locally built Python SDK docker image has Python 3.7 interpreter.\n"
          ]
        },
        {
          "output_type": "execute_result",
          "data": {
            "text/plain": [
              "<apache_beam.runners.portability.fn_api_runner.fn_runner.RunnerResult at 0x7f36e355a4d0>"
            ]
          },
          "metadata": {},
          "execution_count": 2
        }
      ]
    },
    {
      "cell_type": "code",
      "source": [
        "! cat /content/customer-grouped-00000-of-00001"
      ],
      "metadata": {
        "colab": {
          "base_uri": "https://localhost:8080/"
        },
        "id": "oeGAAjGQ8swq",
        "outputId": "012ed2bd-61b7-4289-ffca-690e2048f4e8"
      },
      "execution_count": null,
      "outputs": [
        {
          "output_type": "stream",
          "name": "stdout",
          "text": [
            "('NY', [['1', 'John', 'NY', '22'], ['3', 'Mary', 'NY', '30'], ['5', 'Samza', 'NY', '18'], ['6', 'Maria', 'NY', '15'], ['7', 'Shreya', 'NY', '30'], ['9', 'Mona', 'NY', '18'], ['10', 'Nandita', 'NY', '15']])\n",
            "('LA', [['2', 'Jim', 'LA', '25'], ['4', 'Albert', 'LA', '20'], ['8', 'Kavita', 'LA', '20']])\n"
          ]
        }
      ]
    },
    {
      "cell_type": "markdown",
      "source": [
        "## **[GroupByKey](https://)**\n",
        "\n",
        "GroupByKey is made for key-value pairs, to group the data based on key"
      ],
      "metadata": {
        "id": "4JE8wu1nEYIb"
      }
    },
    {
      "cell_type": "code",
      "source": [
        "import apache_beam as beam\n",
        "\n",
        "with beam.Pipeline() as pipeline:\n",
        "  produce_counts = (\n",
        "      pipeline\n",
        "      | 'Create produce counts' >> beam.Create([\n",
        "          ('May', 'John'),\n",
        "          ('April', 'Jim'),\n",
        "          ('Feb', 'Samantha'),\n",
        "          ('April', 'Jack'),\n",
        "          ('Feb', 'Albert'),\n",
        "          ('July', 'Wilson'),\n",
        "          ('May', 'Ruby'),\n",
        "          ('September', 'Tom'),\n",
        "          ('October', 'Harry'),\n",
        "          ('Feb', 'Mary'),\n",
        "      ])\n",
        "      | 'Group counts per produce' >> beam.GroupByKey()\n",
        "      | beam.MapTuple(lambda k, vs: (k, sorted(vs)))  # sort and format\n",
        "      | beam.Map(print))"
      ],
      "metadata": {
        "colab": {
          "base_uri": "https://localhost:8080/"
        },
        "id": "jUpXMlwyDsSr",
        "outputId": "fb68e213-0ea8-4e55-a3a7-6d06bcbd8255"
      },
      "execution_count": null,
      "outputs": [
        {
          "output_type": "stream",
          "name": "stderr",
          "text": [
            "WARNING:root:Make sure that locally built Python SDK docker image has Python 3.7 interpreter.\n"
          ]
        },
        {
          "output_type": "stream",
          "name": "stdout",
          "text": [
            "('May', ['John', 'Ruby'])\n",
            "('April', ['Jack', 'Jim'])\n",
            "('Feb', ['Albert', 'Mary', 'Samantha'])\n",
            "('July', ['Wilson'])\n",
            "('September', ['Tom'])\n",
            "('October', ['Harry'])\n"
          ]
        }
      ]
    },
    {
      "cell_type": "markdown",
      "source": [
        "# **Combiners**"
      ],
      "metadata": {
        "id": "DutgqjKzGfVl"
      }
    },
    {
      "cell_type": "markdown",
      "source": [
        "**Combiners are the PTransform that aggregates a PCollection, this is, from multiple input , they output one element or one element by key**\n",
        "\n"
      ],
      "metadata": {
        "id": "19QZMqBvGmDe"
      }
    },
    {
      "cell_type": "markdown",
      "source": [
        "There are two types of Combiners\n",
        "\n",
        "* **Global Combiners** : aggregates the input Pcollection into one output (per window if applied in windows)\n",
        "* **Per Key Combiners**: aggregates the PCollection key value into onw output element per key (per window if applied on windows)"
      ],
      "metadata": {
        "id": "AEAWkjvnG7vb"
      }
    },
    {
      "cell_type": "markdown",
      "source": [
        "Some of the basic combiner functions are already built-in:\n",
        "\n",
        "**Count** takes a PCollection and outputs the amount of elements. </br>\n",
        "**Top** outputs the n largest/smallest of a PCollection given a comparison. <br>\n",
        "**Mean** outputs the arithmetic mean of a PCollection.\n",
        "\n",
        "\n",
        "Combiners can aggregate using the whole PCollection or by key using methods:\n",
        "\n",
        ".**Globally** applies the combiner to the whole PCollection. </br>\n",
        ".**PerKey** applies the combiner for each key-value in the Pcollection."
      ],
      "metadata": {
        "id": "I7cgCbbxEr2M"
      }
    },
    {
      "cell_type": "markdown",
      "source": [
        "## **[Built-in Combiners](https://)**"
      ],
      "metadata": {
        "id": "t8eoNcBKM2c_"
      }
    },
    {
      "cell_type": "code",
      "source": [
        "import apache_beam as beam\n",
        "from apache_beam import pvalue\n",
        "from apache_beam import Create, FlatMap, Map, ParDo, Filter, Flatten\n",
        "from apache_beam import CombineGlobally, CombinePerKey\n",
        "from apache_beam.transforms.combiners import Top, Mean, Count\n",
        "from apache_beam import pvalue, window, WindowInto\n",
        "\n",
        "from apache_beam.runners.interactive.interactive_runner import InteractiveRunner\n",
        "import apache_beam.runners.interactive.interactive_beam as ib\n",
        "\n",
        "p = beam.Pipeline(InteractiveRunner())\n",
        "\n",
        "elements = [\n",
        "    {\"country\": \"China\", \"population\": 1389, \"continent\": \"Asia\"},\n",
        "    {\"country\": \"India\", \"population\": 1311, \"continent\": \"Asia\"},\n",
        "    {\"country\": \"Japan\", \"population\": 126, \"continent\": \"Asia\"},        \n",
        "    {\"country\": \"USA\", \"population\": 331, \"continent\": \"America\"},\n",
        "    {\"country\": \"Ireland\", \"population\": 5, \"continent\": \"Europe\"},\n",
        "    {\"country\": \"Indonesia\", \"population\": 273, \"continent\": \"Asia\"},\n",
        "    {\"country\": \"Brazil\", \"population\": 212, \"continent\": \"America\"},\n",
        "    {\"country\": \"Egypt\", \"population\": 102, \"continent\": \"Africa\"},\n",
        "    {\"country\": \"Spain\", \"population\": 47, \"continent\": \"Europe\"},\n",
        "    {\"country\": \"Ghana\", \"population\": 31, \"continent\": \"Africa\"},\n",
        "    {\"country\": \"Australia\", \"population\": 25, \"continent\": \"Oceania\"},\n",
        "]\n",
        "\n",
        "create = (p | \"Create\" >> beam.Create(elements)\n",
        "            | \"Map Keys\" >> beam.Map(lambda x: (x['continent'], x['population'])))\n",
        "\n",
        "element_count_total = create | \"Total Count\" >> Count.Globally() \n",
        "\n",
        "element_count_grouped = create | \"Count Per Key\" >> Count.PerKey()\n",
        "\n",
        "top_grouped = create | \"Top\" >> Top.PerKey(n=1) \n",
        "\n",
        "mean_grouped = create | \"Mean\" >> Mean.PerKey()\n",
        "\n",
        "\n",
        "ib.show(element_count_total)\n",
        "\n",
        "ib.show(element_count_grouped)\n",
        "\n",
        "ib.show(top_grouped)\n",
        "\n",
        "ib.show(mean_grouped)\n"
      ],
      "metadata": {
        "colab": {
          "base_uri": "https://localhost:8080/",
          "height": 1000
        },
        "id": "Np01sr23FwNm",
        "outputId": "26cd7bf7-d5da-443f-d8e2-0cd857e1660d"
      },
      "execution_count": null,
      "outputs": [
        {
          "output_type": "display_data",
          "data": {
            "text/html": [
              "\n",
              "            <link rel=\"stylesheet\" href=\"https://stackpath.bootstrapcdn.com/bootstrap/4.4.1/css/bootstrap.min.css\" integrity=\"sha384-Vkoo8x4CGsO3+Hhxv8T/Q5PaXtkKtu6ug5TOeNV6gBiFeWPGFN9MuhOf23Q9Ifjh\" crossorigin=\"anonymous\">\n",
              "            <div id=\"progress_indicator_362bbf88c98674c3d153aa0cfb4ff0e2\" class=\"spinner-border text-info\" role=\"status\">\n",
              "            </div>"
            ],
            "text/plain": [
              "<IPython.core.display.HTML object>"
            ]
          },
          "metadata": {}
        },
        {
          "output_type": "stream",
          "name": "stderr",
          "text": [
            "WARNING:root:Make sure that locally built Python SDK docker image has Python 3.7 interpreter.\n"
          ]
        },
        {
          "output_type": "display_data",
          "data": {
            "text/html": [
              "\n",
              "            <style>\n",
              "            .p-Widget.jp-OutputPrompt.jp-OutputArea-prompt:empty {\n",
              "              padding: 0;\n",
              "              border: 0;\n",
              "            }\n",
              "            .p-Widget.jp-RenderedJavaScript.jp-mod-trusted.jp-OutputArea-output:empty {\n",
              "              padding: 0;\n",
              "              border: 0;\n",
              "            }\n",
              "            </style>\n",
              "            <link rel=\"stylesheet\" href=\"https://cdn.datatables.net/1.10.20/css/jquery.dataTables.min.css\">\n",
              "            <table id=\"table_df_9a0fb41462863a1205b533787203d07a\" class=\"display\" style=\"display:block\"></table>\n",
              "            <script>\n",
              "              \n",
              "        if (typeof window.interactive_beam_jquery == 'undefined') {\n",
              "          var jqueryScript = document.createElement('script');\n",
              "          jqueryScript.src = 'https://code.jquery.com/jquery-3.4.1.slim.min.js';\n",
              "          jqueryScript.type = 'text/javascript';\n",
              "          jqueryScript.onload = function() {\n",
              "            var datatableScript = document.createElement('script');\n",
              "            datatableScript.src = 'https://cdn.datatables.net/1.10.20/js/jquery.dataTables.min.js';\n",
              "            datatableScript.type = 'text/javascript';\n",
              "            datatableScript.onload = function() {\n",
              "              window.interactive_beam_jquery = jQuery.noConflict(true);\n",
              "              window.interactive_beam_jquery(document).ready(function($){\n",
              "                \n",
              "            var dt;\n",
              "            if ($.fn.dataTable.isDataTable(\"#table_df_9a0fb41462863a1205b533787203d07a\")) {\n",
              "              dt = $(\"#table_df_9a0fb41462863a1205b533787203d07a\").dataTable();\n",
              "            } else if ($(\"#table_df_9a0fb41462863a1205b533787203d07a_wrapper\").length == 0) {\n",
              "              dt = $(\"#table_df_9a0fb41462863a1205b533787203d07a\").dataTable({\n",
              "                \n",
              "            bAutoWidth: false,\n",
              "            columns: [{'title': ''}, {'title': 'element_count_total.0'}],\n",
              "            destroy: true,\n",
              "            responsive: true,\n",
              "            columnDefs: [\n",
              "              {\n",
              "                targets: \"_all\",\n",
              "                className: \"dt-left\"\n",
              "              },\n",
              "              {\n",
              "                \"targets\": 0,\n",
              "                \"width\": \"10px\",\n",
              "                \"title\": \"\"\n",
              "              }\n",
              "            ]\n",
              "              });\n",
              "            } else {\n",
              "              return;\n",
              "            }\n",
              "            dt.api()\n",
              "              .clear()\n",
              "              .rows.add([{1: '11', 0: 0}])\n",
              "              .draw('full-hold');\n",
              "              });\n",
              "            }\n",
              "            document.head.appendChild(datatableScript);\n",
              "          };\n",
              "          document.head.appendChild(jqueryScript);\n",
              "        } else {\n",
              "          window.interactive_beam_jquery(document).ready(function($){\n",
              "            \n",
              "            var dt;\n",
              "            if ($.fn.dataTable.isDataTable(\"#table_df_9a0fb41462863a1205b533787203d07a\")) {\n",
              "              dt = $(\"#table_df_9a0fb41462863a1205b533787203d07a\").dataTable();\n",
              "            } else if ($(\"#table_df_9a0fb41462863a1205b533787203d07a_wrapper\").length == 0) {\n",
              "              dt = $(\"#table_df_9a0fb41462863a1205b533787203d07a\").dataTable({\n",
              "                \n",
              "            bAutoWidth: false,\n",
              "            columns: [{'title': ''}, {'title': 'element_count_total.0'}],\n",
              "            destroy: true,\n",
              "            responsive: true,\n",
              "            columnDefs: [\n",
              "              {\n",
              "                targets: \"_all\",\n",
              "                className: \"dt-left\"\n",
              "              },\n",
              "              {\n",
              "                \"targets\": 0,\n",
              "                \"width\": \"10px\",\n",
              "                \"title\": \"\"\n",
              "              }\n",
              "            ]\n",
              "              });\n",
              "            } else {\n",
              "              return;\n",
              "            }\n",
              "            dt.api()\n",
              "              .clear()\n",
              "              .rows.add([{1: '11', 0: 0}])\n",
              "              .draw('full-hold');\n",
              "          });\n",
              "        }\n",
              "            </script>"
            ],
            "text/plain": [
              "<IPython.core.display.HTML object>"
            ]
          },
          "metadata": {}
        },
        {
          "output_type": "display_data",
          "data": {
            "application/javascript": [
              "\n",
              "        if (typeof window.interactive_beam_jquery == 'undefined') {\n",
              "          var jqueryScript = document.createElement('script');\n",
              "          jqueryScript.src = 'https://code.jquery.com/jquery-3.4.1.slim.min.js';\n",
              "          jqueryScript.type = 'text/javascript';\n",
              "          jqueryScript.onload = function() {\n",
              "            var datatableScript = document.createElement('script');\n",
              "            datatableScript.src = 'https://cdn.datatables.net/1.10.20/js/jquery.dataTables.min.js';\n",
              "            datatableScript.type = 'text/javascript';\n",
              "            datatableScript.onload = function() {\n",
              "              window.interactive_beam_jquery = jQuery.noConflict(true);\n",
              "              window.interactive_beam_jquery(document).ready(function($){\n",
              "                \n",
              "            $(\"#progress_indicator_362bbf88c98674c3d153aa0cfb4ff0e2\").remove();\n",
              "              });\n",
              "            }\n",
              "            document.head.appendChild(datatableScript);\n",
              "          };\n",
              "          document.head.appendChild(jqueryScript);\n",
              "        } else {\n",
              "          window.interactive_beam_jquery(document).ready(function($){\n",
              "            \n",
              "            $(\"#progress_indicator_362bbf88c98674c3d153aa0cfb4ff0e2\").remove();\n",
              "          });\n",
              "        }"
            ]
          },
          "metadata": {}
        },
        {
          "output_type": "display_data",
          "data": {
            "text/html": [
              "\n",
              "            <link rel=\"stylesheet\" href=\"https://stackpath.bootstrapcdn.com/bootstrap/4.4.1/css/bootstrap.min.css\" integrity=\"sha384-Vkoo8x4CGsO3+Hhxv8T/Q5PaXtkKtu6ug5TOeNV6gBiFeWPGFN9MuhOf23Q9Ifjh\" crossorigin=\"anonymous\">\n",
              "            <div id=\"progress_indicator_0f04f118fe3426d576ae106657f606b9\" class=\"spinner-border text-info\" role=\"status\">\n",
              "            </div>"
            ],
            "text/plain": [
              "<IPython.core.display.HTML object>"
            ]
          },
          "metadata": {}
        },
        {
          "output_type": "stream",
          "name": "stderr",
          "text": [
            "WARNING:root:Make sure that locally built Python SDK docker image has Python 3.7 interpreter.\n"
          ]
        },
        {
          "output_type": "display_data",
          "data": {
            "text/html": [
              "\n",
              "            <style>\n",
              "            .p-Widget.jp-OutputPrompt.jp-OutputArea-prompt:empty {\n",
              "              padding: 0;\n",
              "              border: 0;\n",
              "            }\n",
              "            .p-Widget.jp-RenderedJavaScript.jp-mod-trusted.jp-OutputArea-output:empty {\n",
              "              padding: 0;\n",
              "              border: 0;\n",
              "            }\n",
              "            </style>\n",
              "            <link rel=\"stylesheet\" href=\"https://cdn.datatables.net/1.10.20/css/jquery.dataTables.min.css\">\n",
              "            <table id=\"table_df_88b45eed9614e2a6157e5258c5612013\" class=\"display\" style=\"display:block\"></table>\n",
              "            <script>\n",
              "              \n",
              "        if (typeof window.interactive_beam_jquery == 'undefined') {\n",
              "          var jqueryScript = document.createElement('script');\n",
              "          jqueryScript.src = 'https://code.jquery.com/jquery-3.4.1.slim.min.js';\n",
              "          jqueryScript.type = 'text/javascript';\n",
              "          jqueryScript.onload = function() {\n",
              "            var datatableScript = document.createElement('script');\n",
              "            datatableScript.src = 'https://cdn.datatables.net/1.10.20/js/jquery.dataTables.min.js';\n",
              "            datatableScript.type = 'text/javascript';\n",
              "            datatableScript.onload = function() {\n",
              "              window.interactive_beam_jquery = jQuery.noConflict(true);\n",
              "              window.interactive_beam_jquery(document).ready(function($){\n",
              "                \n",
              "            var dt;\n",
              "            if ($.fn.dataTable.isDataTable(\"#table_df_88b45eed9614e2a6157e5258c5612013\")) {\n",
              "              dt = $(\"#table_df_88b45eed9614e2a6157e5258c5612013\").dataTable();\n",
              "            } else if ($(\"#table_df_88b45eed9614e2a6157e5258c5612013_wrapper\").length == 0) {\n",
              "              dt = $(\"#table_df_88b45eed9614e2a6157e5258c5612013\").dataTable({\n",
              "                \n",
              "            bAutoWidth: false,\n",
              "            columns: [{'title': ''}, {'title': 'element_count_grouped.0'}, {'title': 'element_count_grouped.1'}],\n",
              "            destroy: true,\n",
              "            responsive: true,\n",
              "            columnDefs: [\n",
              "              {\n",
              "                targets: \"_all\",\n",
              "                className: \"dt-left\"\n",
              "              },\n",
              "              {\n",
              "                \"targets\": 0,\n",
              "                \"width\": \"10px\",\n",
              "                \"title\": \"\"\n",
              "              }\n",
              "            ]\n",
              "              });\n",
              "            } else {\n",
              "              return;\n",
              "            }\n",
              "            dt.api()\n",
              "              .clear()\n",
              "              .rows.add([{1: 'Asia', 2: '4', 0: 0}, {1: 'America', 2: '2', 0: 1}, {1: 'Europe', 2: '2', 0: 2}, {1: 'Africa', 2: '2', 0: 3}, {1: 'Oceania', 2: '1', 0: 4}])\n",
              "              .draw('full-hold');\n",
              "              });\n",
              "            }\n",
              "            document.head.appendChild(datatableScript);\n",
              "          };\n",
              "          document.head.appendChild(jqueryScript);\n",
              "        } else {\n",
              "          window.interactive_beam_jquery(document).ready(function($){\n",
              "            \n",
              "            var dt;\n",
              "            if ($.fn.dataTable.isDataTable(\"#table_df_88b45eed9614e2a6157e5258c5612013\")) {\n",
              "              dt = $(\"#table_df_88b45eed9614e2a6157e5258c5612013\").dataTable();\n",
              "            } else if ($(\"#table_df_88b45eed9614e2a6157e5258c5612013_wrapper\").length == 0) {\n",
              "              dt = $(\"#table_df_88b45eed9614e2a6157e5258c5612013\").dataTable({\n",
              "                \n",
              "            bAutoWidth: false,\n",
              "            columns: [{'title': ''}, {'title': 'element_count_grouped.0'}, {'title': 'element_count_grouped.1'}],\n",
              "            destroy: true,\n",
              "            responsive: true,\n",
              "            columnDefs: [\n",
              "              {\n",
              "                targets: \"_all\",\n",
              "                className: \"dt-left\"\n",
              "              },\n",
              "              {\n",
              "                \"targets\": 0,\n",
              "                \"width\": \"10px\",\n",
              "                \"title\": \"\"\n",
              "              }\n",
              "            ]\n",
              "              });\n",
              "            } else {\n",
              "              return;\n",
              "            }\n",
              "            dt.api()\n",
              "              .clear()\n",
              "              .rows.add([{1: 'Asia', 2: '4', 0: 0}, {1: 'America', 2: '2', 0: 1}, {1: 'Europe', 2: '2', 0: 2}, {1: 'Africa', 2: '2', 0: 3}, {1: 'Oceania', 2: '1', 0: 4}])\n",
              "              .draw('full-hold');\n",
              "          });\n",
              "        }\n",
              "            </script>"
            ],
            "text/plain": [
              "<IPython.core.display.HTML object>"
            ]
          },
          "metadata": {}
        },
        {
          "output_type": "display_data",
          "data": {
            "application/javascript": [
              "\n",
              "        if (typeof window.interactive_beam_jquery == 'undefined') {\n",
              "          var jqueryScript = document.createElement('script');\n",
              "          jqueryScript.src = 'https://code.jquery.com/jquery-3.4.1.slim.min.js';\n",
              "          jqueryScript.type = 'text/javascript';\n",
              "          jqueryScript.onload = function() {\n",
              "            var datatableScript = document.createElement('script');\n",
              "            datatableScript.src = 'https://cdn.datatables.net/1.10.20/js/jquery.dataTables.min.js';\n",
              "            datatableScript.type = 'text/javascript';\n",
              "            datatableScript.onload = function() {\n",
              "              window.interactive_beam_jquery = jQuery.noConflict(true);\n",
              "              window.interactive_beam_jquery(document).ready(function($){\n",
              "                \n",
              "            $(\"#progress_indicator_0f04f118fe3426d576ae106657f606b9\").remove();\n",
              "              });\n",
              "            }\n",
              "            document.head.appendChild(datatableScript);\n",
              "          };\n",
              "          document.head.appendChild(jqueryScript);\n",
              "        } else {\n",
              "          window.interactive_beam_jquery(document).ready(function($){\n",
              "            \n",
              "            $(\"#progress_indicator_0f04f118fe3426d576ae106657f606b9\").remove();\n",
              "          });\n",
              "        }"
            ]
          },
          "metadata": {}
        },
        {
          "output_type": "display_data",
          "data": {
            "text/html": [
              "\n",
              "            <link rel=\"stylesheet\" href=\"https://stackpath.bootstrapcdn.com/bootstrap/4.4.1/css/bootstrap.min.css\" integrity=\"sha384-Vkoo8x4CGsO3+Hhxv8T/Q5PaXtkKtu6ug5TOeNV6gBiFeWPGFN9MuhOf23Q9Ifjh\" crossorigin=\"anonymous\">\n",
              "            <div id=\"progress_indicator_52bfa9724b77249bfc23c11a34ca47f9\" class=\"spinner-border text-info\" role=\"status\">\n",
              "            </div>"
            ],
            "text/plain": [
              "<IPython.core.display.HTML object>"
            ]
          },
          "metadata": {}
        },
        {
          "output_type": "stream",
          "name": "stderr",
          "text": [
            "WARNING:root:Make sure that locally built Python SDK docker image has Python 3.7 interpreter.\n"
          ]
        },
        {
          "output_type": "display_data",
          "data": {
            "text/html": [
              "\n",
              "            <style>\n",
              "            .p-Widget.jp-OutputPrompt.jp-OutputArea-prompt:empty {\n",
              "              padding: 0;\n",
              "              border: 0;\n",
              "            }\n",
              "            .p-Widget.jp-RenderedJavaScript.jp-mod-trusted.jp-OutputArea-output:empty {\n",
              "              padding: 0;\n",
              "              border: 0;\n",
              "            }\n",
              "            </style>\n",
              "            <link rel=\"stylesheet\" href=\"https://cdn.datatables.net/1.10.20/css/jquery.dataTables.min.css\">\n",
              "            <table id=\"table_df_76b43526438a95f3ca4e464fb2243eec\" class=\"display\" style=\"display:block\"></table>\n",
              "            <script>\n",
              "              \n",
              "        if (typeof window.interactive_beam_jquery == 'undefined') {\n",
              "          var jqueryScript = document.createElement('script');\n",
              "          jqueryScript.src = 'https://code.jquery.com/jquery-3.4.1.slim.min.js';\n",
              "          jqueryScript.type = 'text/javascript';\n",
              "          jqueryScript.onload = function() {\n",
              "            var datatableScript = document.createElement('script');\n",
              "            datatableScript.src = 'https://cdn.datatables.net/1.10.20/js/jquery.dataTables.min.js';\n",
              "            datatableScript.type = 'text/javascript';\n",
              "            datatableScript.onload = function() {\n",
              "              window.interactive_beam_jquery = jQuery.noConflict(true);\n",
              "              window.interactive_beam_jquery(document).ready(function($){\n",
              "                \n",
              "            var dt;\n",
              "            if ($.fn.dataTable.isDataTable(\"#table_df_76b43526438a95f3ca4e464fb2243eec\")) {\n",
              "              dt = $(\"#table_df_76b43526438a95f3ca4e464fb2243eec\").dataTable();\n",
              "            } else if ($(\"#table_df_76b43526438a95f3ca4e464fb2243eec_wrapper\").length == 0) {\n",
              "              dt = $(\"#table_df_76b43526438a95f3ca4e464fb2243eec\").dataTable({\n",
              "                \n",
              "            bAutoWidth: false,\n",
              "            columns: [{'title': ''}, {'title': 'top_grouped.0'}, {'title': 'top_grouped.1'}],\n",
              "            destroy: true,\n",
              "            responsive: true,\n",
              "            columnDefs: [\n",
              "              {\n",
              "                targets: \"_all\",\n",
              "                className: \"dt-left\"\n",
              "              },\n",
              "              {\n",
              "                \"targets\": 0,\n",
              "                \"width\": \"10px\",\n",
              "                \"title\": \"\"\n",
              "              }\n",
              "            ]\n",
              "              });\n",
              "            } else {\n",
              "              return;\n",
              "            }\n",
              "            dt.api()\n",
              "              .clear()\n",
              "              .rows.add([{1: 'Asia', 2: '[1389]', 0: 0}, {1: 'America', 2: '[331]', 0: 1}, {1: 'Europe', 2: '[47]', 0: 2}, {1: 'Africa', 2: '[102]', 0: 3}, {1: 'Oceania', 2: '[25]', 0: 4}])\n",
              "              .draw('full-hold');\n",
              "              });\n",
              "            }\n",
              "            document.head.appendChild(datatableScript);\n",
              "          };\n",
              "          document.head.appendChild(jqueryScript);\n",
              "        } else {\n",
              "          window.interactive_beam_jquery(document).ready(function($){\n",
              "            \n",
              "            var dt;\n",
              "            if ($.fn.dataTable.isDataTable(\"#table_df_76b43526438a95f3ca4e464fb2243eec\")) {\n",
              "              dt = $(\"#table_df_76b43526438a95f3ca4e464fb2243eec\").dataTable();\n",
              "            } else if ($(\"#table_df_76b43526438a95f3ca4e464fb2243eec_wrapper\").length == 0) {\n",
              "              dt = $(\"#table_df_76b43526438a95f3ca4e464fb2243eec\").dataTable({\n",
              "                \n",
              "            bAutoWidth: false,\n",
              "            columns: [{'title': ''}, {'title': 'top_grouped.0'}, {'title': 'top_grouped.1'}],\n",
              "            destroy: true,\n",
              "            responsive: true,\n",
              "            columnDefs: [\n",
              "              {\n",
              "                targets: \"_all\",\n",
              "                className: \"dt-left\"\n",
              "              },\n",
              "              {\n",
              "                \"targets\": 0,\n",
              "                \"width\": \"10px\",\n",
              "                \"title\": \"\"\n",
              "              }\n",
              "            ]\n",
              "              });\n",
              "            } else {\n",
              "              return;\n",
              "            }\n",
              "            dt.api()\n",
              "              .clear()\n",
              "              .rows.add([{1: 'Asia', 2: '[1389]', 0: 0}, {1: 'America', 2: '[331]', 0: 1}, {1: 'Europe', 2: '[47]', 0: 2}, {1: 'Africa', 2: '[102]', 0: 3}, {1: 'Oceania', 2: '[25]', 0: 4}])\n",
              "              .draw('full-hold');\n",
              "          });\n",
              "        }\n",
              "            </script>"
            ],
            "text/plain": [
              "<IPython.core.display.HTML object>"
            ]
          },
          "metadata": {}
        },
        {
          "output_type": "display_data",
          "data": {
            "application/javascript": [
              "\n",
              "        if (typeof window.interactive_beam_jquery == 'undefined') {\n",
              "          var jqueryScript = document.createElement('script');\n",
              "          jqueryScript.src = 'https://code.jquery.com/jquery-3.4.1.slim.min.js';\n",
              "          jqueryScript.type = 'text/javascript';\n",
              "          jqueryScript.onload = function() {\n",
              "            var datatableScript = document.createElement('script');\n",
              "            datatableScript.src = 'https://cdn.datatables.net/1.10.20/js/jquery.dataTables.min.js';\n",
              "            datatableScript.type = 'text/javascript';\n",
              "            datatableScript.onload = function() {\n",
              "              window.interactive_beam_jquery = jQuery.noConflict(true);\n",
              "              window.interactive_beam_jquery(document).ready(function($){\n",
              "                \n",
              "            $(\"#progress_indicator_52bfa9724b77249bfc23c11a34ca47f9\").remove();\n",
              "              });\n",
              "            }\n",
              "            document.head.appendChild(datatableScript);\n",
              "          };\n",
              "          document.head.appendChild(jqueryScript);\n",
              "        } else {\n",
              "          window.interactive_beam_jquery(document).ready(function($){\n",
              "            \n",
              "            $(\"#progress_indicator_52bfa9724b77249bfc23c11a34ca47f9\").remove();\n",
              "          });\n",
              "        }"
            ]
          },
          "metadata": {}
        },
        {
          "output_type": "display_data",
          "data": {
            "text/html": [
              "\n",
              "            <link rel=\"stylesheet\" href=\"https://stackpath.bootstrapcdn.com/bootstrap/4.4.1/css/bootstrap.min.css\" integrity=\"sha384-Vkoo8x4CGsO3+Hhxv8T/Q5PaXtkKtu6ug5TOeNV6gBiFeWPGFN9MuhOf23Q9Ifjh\" crossorigin=\"anonymous\">\n",
              "            <div id=\"progress_indicator_0f04f118fe3426d576ae106657f606b9\" class=\"spinner-border text-info\" role=\"status\">\n",
              "            </div>"
            ],
            "text/plain": [
              "<IPython.core.display.HTML object>"
            ]
          },
          "metadata": {}
        },
        {
          "output_type": "stream",
          "name": "stderr",
          "text": [
            "WARNING:root:Make sure that locally built Python SDK docker image has Python 3.7 interpreter.\n"
          ]
        },
        {
          "output_type": "display_data",
          "data": {
            "text/html": [
              "\n",
              "            <style>\n",
              "            .p-Widget.jp-OutputPrompt.jp-OutputArea-prompt:empty {\n",
              "              padding: 0;\n",
              "              border: 0;\n",
              "            }\n",
              "            .p-Widget.jp-RenderedJavaScript.jp-mod-trusted.jp-OutputArea-output:empty {\n",
              "              padding: 0;\n",
              "              border: 0;\n",
              "            }\n",
              "            </style>\n",
              "            <link rel=\"stylesheet\" href=\"https://cdn.datatables.net/1.10.20/css/jquery.dataTables.min.css\">\n",
              "            <table id=\"table_df_901dfeedeb86a97716c604e164f22653\" class=\"display\" style=\"display:block\"></table>\n",
              "            <script>\n",
              "              \n",
              "        if (typeof window.interactive_beam_jquery == 'undefined') {\n",
              "          var jqueryScript = document.createElement('script');\n",
              "          jqueryScript.src = 'https://code.jquery.com/jquery-3.4.1.slim.min.js';\n",
              "          jqueryScript.type = 'text/javascript';\n",
              "          jqueryScript.onload = function() {\n",
              "            var datatableScript = document.createElement('script');\n",
              "            datatableScript.src = 'https://cdn.datatables.net/1.10.20/js/jquery.dataTables.min.js';\n",
              "            datatableScript.type = 'text/javascript';\n",
              "            datatableScript.onload = function() {\n",
              "              window.interactive_beam_jquery = jQuery.noConflict(true);\n",
              "              window.interactive_beam_jquery(document).ready(function($){\n",
              "                \n",
              "            var dt;\n",
              "            if ($.fn.dataTable.isDataTable(\"#table_df_901dfeedeb86a97716c604e164f22653\")) {\n",
              "              dt = $(\"#table_df_901dfeedeb86a97716c604e164f22653\").dataTable();\n",
              "            } else if ($(\"#table_df_901dfeedeb86a97716c604e164f22653_wrapper\").length == 0) {\n",
              "              dt = $(\"#table_df_901dfeedeb86a97716c604e164f22653\").dataTable({\n",
              "                \n",
              "            bAutoWidth: false,\n",
              "            columns: [{'title': ''}, {'title': 'mean_grouped.0'}, {'title': 'mean_grouped.1'}],\n",
              "            destroy: true,\n",
              "            responsive: true,\n",
              "            columnDefs: [\n",
              "              {\n",
              "                targets: \"_all\",\n",
              "                className: \"dt-left\"\n",
              "              },\n",
              "              {\n",
              "                \"targets\": 0,\n",
              "                \"width\": \"10px\",\n",
              "                \"title\": \"\"\n",
              "              }\n",
              "            ]\n",
              "              });\n",
              "            } else {\n",
              "              return;\n",
              "            }\n",
              "            dt.api()\n",
              "              .clear()\n",
              "              .rows.add([{1: 'Asia', 2: '774.75', 0: 0}, {1: 'America', 2: '271.5', 0: 1}, {1: 'Europe', 2: '26.0', 0: 2}, {1: 'Africa', 2: '66.5', 0: 3}, {1: 'Oceania', 2: '25.0', 0: 4}])\n",
              "              .draw('full-hold');\n",
              "              });\n",
              "            }\n",
              "            document.head.appendChild(datatableScript);\n",
              "          };\n",
              "          document.head.appendChild(jqueryScript);\n",
              "        } else {\n",
              "          window.interactive_beam_jquery(document).ready(function($){\n",
              "            \n",
              "            var dt;\n",
              "            if ($.fn.dataTable.isDataTable(\"#table_df_901dfeedeb86a97716c604e164f22653\")) {\n",
              "              dt = $(\"#table_df_901dfeedeb86a97716c604e164f22653\").dataTable();\n",
              "            } else if ($(\"#table_df_901dfeedeb86a97716c604e164f22653_wrapper\").length == 0) {\n",
              "              dt = $(\"#table_df_901dfeedeb86a97716c604e164f22653\").dataTable({\n",
              "                \n",
              "            bAutoWidth: false,\n",
              "            columns: [{'title': ''}, {'title': 'mean_grouped.0'}, {'title': 'mean_grouped.1'}],\n",
              "            destroy: true,\n",
              "            responsive: true,\n",
              "            columnDefs: [\n",
              "              {\n",
              "                targets: \"_all\",\n",
              "                className: \"dt-left\"\n",
              "              },\n",
              "              {\n",
              "                \"targets\": 0,\n",
              "                \"width\": \"10px\",\n",
              "                \"title\": \"\"\n",
              "              }\n",
              "            ]\n",
              "              });\n",
              "            } else {\n",
              "              return;\n",
              "            }\n",
              "            dt.api()\n",
              "              .clear()\n",
              "              .rows.add([{1: 'Asia', 2: '774.75', 0: 0}, {1: 'America', 2: '271.5', 0: 1}, {1: 'Europe', 2: '26.0', 0: 2}, {1: 'Africa', 2: '66.5', 0: 3}, {1: 'Oceania', 2: '25.0', 0: 4}])\n",
              "              .draw('full-hold');\n",
              "          });\n",
              "        }\n",
              "            </script>"
            ],
            "text/plain": [
              "<IPython.core.display.HTML object>"
            ]
          },
          "metadata": {}
        },
        {
          "output_type": "display_data",
          "data": {
            "application/javascript": [
              "\n",
              "        if (typeof window.interactive_beam_jquery == 'undefined') {\n",
              "          var jqueryScript = document.createElement('script');\n",
              "          jqueryScript.src = 'https://code.jquery.com/jquery-3.4.1.slim.min.js';\n",
              "          jqueryScript.type = 'text/javascript';\n",
              "          jqueryScript.onload = function() {\n",
              "            var datatableScript = document.createElement('script');\n",
              "            datatableScript.src = 'https://cdn.datatables.net/1.10.20/js/jquery.dataTables.min.js';\n",
              "            datatableScript.type = 'text/javascript';\n",
              "            datatableScript.onload = function() {\n",
              "              window.interactive_beam_jquery = jQuery.noConflict(true);\n",
              "              window.interactive_beam_jquery(document).ready(function($){\n",
              "                \n",
              "            $(\"#progress_indicator_0f04f118fe3426d576ae106657f606b9\").remove();\n",
              "              });\n",
              "            }\n",
              "            document.head.appendChild(datatableScript);\n",
              "          };\n",
              "          document.head.appendChild(jqueryScript);\n",
              "        } else {\n",
              "          window.interactive_beam_jquery(document).ready(function($){\n",
              "            \n",
              "            $(\"#progress_indicator_0f04f118fe3426d576ae106657f606b9\").remove();\n",
              "          });\n",
              "        }"
            ]
          },
          "metadata": {}
        }
      ]
    },
    {
      "cell_type": "markdown",
      "source": [
        "## **[CombineGlobally](https://)**"
      ],
      "metadata": {
        "id": "6yvDTeyIM8uX"
      }
    },
    {
      "cell_type": "code",
      "source": [
        "import apache_beam as beam\n",
        "from apache_beam import pvalue\n",
        "from apache_beam import Create, FlatMap, Map, ParDo, Filter, Flatten\n",
        "from apache_beam import CombineGlobally, CombinePerKey\n",
        "from apache_beam.transforms.combiners import Top, Mean, Count\n",
        "from apache_beam import pvalue, window, WindowInto\n",
        "\n",
        "from apache_beam.runners.interactive.interactive_runner import InteractiveRunner\n",
        "import apache_beam.runners.interactive.interactive_beam as ib\n",
        "\n",
        "p = beam.Pipeline(InteractiveRunner())\n",
        "\n",
        "elements = [\"Love all,\",\n",
        "            \"trust a few,\",\n",
        "            \"do wrong to none.\"]\n",
        "\n",
        "combine = (p | \"Create\" >> Create(elements)\n",
        "             | \"Join\" >> CombineGlobally(lambda x: \" \".join(x)))\n",
        "\n",
        "ib.show(combine)"
      ],
      "metadata": {
        "colab": {
          "base_uri": "https://localhost:8080/",
          "height": 210
        },
        "id": "p8H5AXsEHRTh",
        "outputId": "9978ed1f-b433-425e-fee3-6ab9d3b39dd8"
      },
      "execution_count": null,
      "outputs": [
        {
          "output_type": "display_data",
          "data": {
            "text/html": [
              "\n",
              "            <link rel=\"stylesheet\" href=\"https://stackpath.bootstrapcdn.com/bootstrap/4.4.1/css/bootstrap.min.css\" integrity=\"sha384-Vkoo8x4CGsO3+Hhxv8T/Q5PaXtkKtu6ug5TOeNV6gBiFeWPGFN9MuhOf23Q9Ifjh\" crossorigin=\"anonymous\">\n",
              "            <div id=\"progress_indicator_30807041e92e32703af5033da5732f3d\" class=\"spinner-border text-info\" role=\"status\">\n",
              "            </div>"
            ],
            "text/plain": [
              "<IPython.core.display.HTML object>"
            ]
          },
          "metadata": {}
        },
        {
          "output_type": "stream",
          "name": "stderr",
          "text": [
            "WARNING:root:Make sure that locally built Python SDK docker image has Python 3.7 interpreter.\n"
          ]
        },
        {
          "output_type": "display_data",
          "data": {
            "text/html": [
              "\n",
              "            <style>\n",
              "            .p-Widget.jp-OutputPrompt.jp-OutputArea-prompt:empty {\n",
              "              padding: 0;\n",
              "              border: 0;\n",
              "            }\n",
              "            .p-Widget.jp-RenderedJavaScript.jp-mod-trusted.jp-OutputArea-output:empty {\n",
              "              padding: 0;\n",
              "              border: 0;\n",
              "            }\n",
              "            </style>\n",
              "            <link rel=\"stylesheet\" href=\"https://cdn.datatables.net/1.10.20/css/jquery.dataTables.min.css\">\n",
              "            <table id=\"table_df_dc1015a935894b8ea38b932689c7557b\" class=\"display\" style=\"display:block\"></table>\n",
              "            <script>\n",
              "              \n",
              "        if (typeof window.interactive_beam_jquery == 'undefined') {\n",
              "          var jqueryScript = document.createElement('script');\n",
              "          jqueryScript.src = 'https://code.jquery.com/jquery-3.4.1.slim.min.js';\n",
              "          jqueryScript.type = 'text/javascript';\n",
              "          jqueryScript.onload = function() {\n",
              "            var datatableScript = document.createElement('script');\n",
              "            datatableScript.src = 'https://cdn.datatables.net/1.10.20/js/jquery.dataTables.min.js';\n",
              "            datatableScript.type = 'text/javascript';\n",
              "            datatableScript.onload = function() {\n",
              "              window.interactive_beam_jquery = jQuery.noConflict(true);\n",
              "              window.interactive_beam_jquery(document).ready(function($){\n",
              "                \n",
              "            var dt;\n",
              "            if ($.fn.dataTable.isDataTable(\"#table_df_dc1015a935894b8ea38b932689c7557b\")) {\n",
              "              dt = $(\"#table_df_dc1015a935894b8ea38b932689c7557b\").dataTable();\n",
              "            } else if ($(\"#table_df_dc1015a935894b8ea38b932689c7557b_wrapper\").length == 0) {\n",
              "              dt = $(\"#table_df_dc1015a935894b8ea38b932689c7557b\").dataTable({\n",
              "                \n",
              "            bAutoWidth: false,\n",
              "            columns: [{'title': ''}, {'title': 'combine.0'}],\n",
              "            destroy: true,\n",
              "            responsive: true,\n",
              "            columnDefs: [\n",
              "              {\n",
              "                targets: \"_all\",\n",
              "                className: \"dt-left\"\n",
              "              },\n",
              "              {\n",
              "                \"targets\": 0,\n",
              "                \"width\": \"10px\",\n",
              "                \"title\": \"\"\n",
              "              }\n",
              "            ]\n",
              "              });\n",
              "            } else {\n",
              "              return;\n",
              "            }\n",
              "            dt.api()\n",
              "              .clear()\n",
              "              .rows.add([{1: 'Love all, trust a few, do wrong to none.', 0: 0}])\n",
              "              .draw('full-hold');\n",
              "              });\n",
              "            }\n",
              "            document.head.appendChild(datatableScript);\n",
              "          };\n",
              "          document.head.appendChild(jqueryScript);\n",
              "        } else {\n",
              "          window.interactive_beam_jquery(document).ready(function($){\n",
              "            \n",
              "            var dt;\n",
              "            if ($.fn.dataTable.isDataTable(\"#table_df_dc1015a935894b8ea38b932689c7557b\")) {\n",
              "              dt = $(\"#table_df_dc1015a935894b8ea38b932689c7557b\").dataTable();\n",
              "            } else if ($(\"#table_df_dc1015a935894b8ea38b932689c7557b_wrapper\").length == 0) {\n",
              "              dt = $(\"#table_df_dc1015a935894b8ea38b932689c7557b\").dataTable({\n",
              "                \n",
              "            bAutoWidth: false,\n",
              "            columns: [{'title': ''}, {'title': 'combine.0'}],\n",
              "            destroy: true,\n",
              "            responsive: true,\n",
              "            columnDefs: [\n",
              "              {\n",
              "                targets: \"_all\",\n",
              "                className: \"dt-left\"\n",
              "              },\n",
              "              {\n",
              "                \"targets\": 0,\n",
              "                \"width\": \"10px\",\n",
              "                \"title\": \"\"\n",
              "              }\n",
              "            ]\n",
              "              });\n",
              "            } else {\n",
              "              return;\n",
              "            }\n",
              "            dt.api()\n",
              "              .clear()\n",
              "              .rows.add([{1: 'Love all, trust a few, do wrong to none.', 0: 0}])\n",
              "              .draw('full-hold');\n",
              "          });\n",
              "        }\n",
              "            </script>"
            ],
            "text/plain": [
              "<IPython.core.display.HTML object>"
            ]
          },
          "metadata": {}
        },
        {
          "output_type": "display_data",
          "data": {
            "application/javascript": [
              "\n",
              "        if (typeof window.interactive_beam_jquery == 'undefined') {\n",
              "          var jqueryScript = document.createElement('script');\n",
              "          jqueryScript.src = 'https://code.jquery.com/jquery-3.4.1.slim.min.js';\n",
              "          jqueryScript.type = 'text/javascript';\n",
              "          jqueryScript.onload = function() {\n",
              "            var datatableScript = document.createElement('script');\n",
              "            datatableScript.src = 'https://cdn.datatables.net/1.10.20/js/jquery.dataTables.min.js';\n",
              "            datatableScript.type = 'text/javascript';\n",
              "            datatableScript.onload = function() {\n",
              "              window.interactive_beam_jquery = jQuery.noConflict(true);\n",
              "              window.interactive_beam_jquery(document).ready(function($){\n",
              "                \n",
              "            $(\"#progress_indicator_30807041e92e32703af5033da5732f3d\").remove();\n",
              "              });\n",
              "            }\n",
              "            document.head.appendChild(datatableScript);\n",
              "          };\n",
              "          document.head.appendChild(jqueryScript);\n",
              "        } else {\n",
              "          window.interactive_beam_jquery(document).ready(function($){\n",
              "            \n",
              "            $(\"#progress_indicator_30807041e92e32703af5033da5732f3d\").remove();\n",
              "          });\n",
              "        }"
            ]
          },
          "metadata": {}
        }
      ]
    },
    {
      "cell_type": "markdown",
      "source": [
        "## **[CombinePerKey](https://)**"
      ],
      "metadata": {
        "id": "744wYXIzNCj4"
      }
    },
    {
      "cell_type": "code",
      "source": [
        "import apache_beam as beam\n",
        "p = beam.Pipeline(InteractiveRunner())\n",
        "\n",
        "elements = [\n",
        "            (\"US\", 2),\n",
        "            (\"India\", 3),\n",
        "            (\"US\", 4),\n",
        "            (\"India\", 5),\n",
        "            (\"US\", 3)\n",
        "]\n",
        "\n",
        "combine_key = (p | \"Create\" >> Create(elements)\n",
        "                 | \"Join By Language\" >> CombinePerKey(lambda x: sum(x)))\n",
        "\n",
        "ib.show(combine_key)"
      ],
      "metadata": {
        "colab": {
          "base_uri": "https://localhost:8080/",
          "height": 250
        },
        "id": "G8oygjbIKb6C",
        "outputId": "2c0086f7-9170-48ce-fc53-6b04b1dc2057"
      },
      "execution_count": null,
      "outputs": [
        {
          "output_type": "display_data",
          "data": {
            "text/html": [
              "\n",
              "            <link rel=\"stylesheet\" href=\"https://stackpath.bootstrapcdn.com/bootstrap/4.4.1/css/bootstrap.min.css\" integrity=\"sha384-Vkoo8x4CGsO3+Hhxv8T/Q5PaXtkKtu6ug5TOeNV6gBiFeWPGFN9MuhOf23Q9Ifjh\" crossorigin=\"anonymous\">\n",
              "            <div id=\"progress_indicator_951ea9ea8ae766cd936c0641949a47a2\" class=\"spinner-border text-info\" role=\"status\">\n",
              "            </div>"
            ],
            "text/plain": [
              "<IPython.core.display.HTML object>"
            ]
          },
          "metadata": {}
        },
        {
          "output_type": "stream",
          "name": "stderr",
          "text": [
            "WARNING:root:Make sure that locally built Python SDK docker image has Python 3.7 interpreter.\n"
          ]
        },
        {
          "output_type": "display_data",
          "data": {
            "text/html": [
              "\n",
              "            <style>\n",
              "            .p-Widget.jp-OutputPrompt.jp-OutputArea-prompt:empty {\n",
              "              padding: 0;\n",
              "              border: 0;\n",
              "            }\n",
              "            .p-Widget.jp-RenderedJavaScript.jp-mod-trusted.jp-OutputArea-output:empty {\n",
              "              padding: 0;\n",
              "              border: 0;\n",
              "            }\n",
              "            </style>\n",
              "            <link rel=\"stylesheet\" href=\"https://cdn.datatables.net/1.10.20/css/jquery.dataTables.min.css\">\n",
              "            <table id=\"table_df_886d4a13747897feb8ae522779c5e641\" class=\"display\" style=\"display:block\"></table>\n",
              "            <script>\n",
              "              \n",
              "        if (typeof window.interactive_beam_jquery == 'undefined') {\n",
              "          var jqueryScript = document.createElement('script');\n",
              "          jqueryScript.src = 'https://code.jquery.com/jquery-3.4.1.slim.min.js';\n",
              "          jqueryScript.type = 'text/javascript';\n",
              "          jqueryScript.onload = function() {\n",
              "            var datatableScript = document.createElement('script');\n",
              "            datatableScript.src = 'https://cdn.datatables.net/1.10.20/js/jquery.dataTables.min.js';\n",
              "            datatableScript.type = 'text/javascript';\n",
              "            datatableScript.onload = function() {\n",
              "              window.interactive_beam_jquery = jQuery.noConflict(true);\n",
              "              window.interactive_beam_jquery(document).ready(function($){\n",
              "                \n",
              "            var dt;\n",
              "            if ($.fn.dataTable.isDataTable(\"#table_df_886d4a13747897feb8ae522779c5e641\")) {\n",
              "              dt = $(\"#table_df_886d4a13747897feb8ae522779c5e641\").dataTable();\n",
              "            } else if ($(\"#table_df_886d4a13747897feb8ae522779c5e641_wrapper\").length == 0) {\n",
              "              dt = $(\"#table_df_886d4a13747897feb8ae522779c5e641\").dataTable({\n",
              "                \n",
              "            bAutoWidth: false,\n",
              "            columns: [{'title': ''}, {'title': 'combine_key.0'}, {'title': 'combine_key.1'}],\n",
              "            destroy: true,\n",
              "            responsive: true,\n",
              "            columnDefs: [\n",
              "              {\n",
              "                targets: \"_all\",\n",
              "                className: \"dt-left\"\n",
              "              },\n",
              "              {\n",
              "                \"targets\": 0,\n",
              "                \"width\": \"10px\",\n",
              "                \"title\": \"\"\n",
              "              }\n",
              "            ]\n",
              "              });\n",
              "            } else {\n",
              "              return;\n",
              "            }\n",
              "            dt.api()\n",
              "              .clear()\n",
              "              .rows.add([{1: 'US', 2: '9', 0: 0}, {1: 'India', 2: '8', 0: 1}])\n",
              "              .draw('full-hold');\n",
              "              });\n",
              "            }\n",
              "            document.head.appendChild(datatableScript);\n",
              "          };\n",
              "          document.head.appendChild(jqueryScript);\n",
              "        } else {\n",
              "          window.interactive_beam_jquery(document).ready(function($){\n",
              "            \n",
              "            var dt;\n",
              "            if ($.fn.dataTable.isDataTable(\"#table_df_886d4a13747897feb8ae522779c5e641\")) {\n",
              "              dt = $(\"#table_df_886d4a13747897feb8ae522779c5e641\").dataTable();\n",
              "            } else if ($(\"#table_df_886d4a13747897feb8ae522779c5e641_wrapper\").length == 0) {\n",
              "              dt = $(\"#table_df_886d4a13747897feb8ae522779c5e641\").dataTable({\n",
              "                \n",
              "            bAutoWidth: false,\n",
              "            columns: [{'title': ''}, {'title': 'combine_key.0'}, {'title': 'combine_key.1'}],\n",
              "            destroy: true,\n",
              "            responsive: true,\n",
              "            columnDefs: [\n",
              "              {\n",
              "                targets: \"_all\",\n",
              "                className: \"dt-left\"\n",
              "              },\n",
              "              {\n",
              "                \"targets\": 0,\n",
              "                \"width\": \"10px\",\n",
              "                \"title\": \"\"\n",
              "              }\n",
              "            ]\n",
              "              });\n",
              "            } else {\n",
              "              return;\n",
              "            }\n",
              "            dt.api()\n",
              "              .clear()\n",
              "              .rows.add([{1: 'US', 2: '9', 0: 0}, {1: 'India', 2: '8', 0: 1}])\n",
              "              .draw('full-hold');\n",
              "          });\n",
              "        }\n",
              "            </script>"
            ],
            "text/plain": [
              "<IPython.core.display.HTML object>"
            ]
          },
          "metadata": {}
        },
        {
          "output_type": "display_data",
          "data": {
            "application/javascript": [
              "\n",
              "        if (typeof window.interactive_beam_jquery == 'undefined') {\n",
              "          var jqueryScript = document.createElement('script');\n",
              "          jqueryScript.src = 'https://code.jquery.com/jquery-3.4.1.slim.min.js';\n",
              "          jqueryScript.type = 'text/javascript';\n",
              "          jqueryScript.onload = function() {\n",
              "            var datatableScript = document.createElement('script');\n",
              "            datatableScript.src = 'https://cdn.datatables.net/1.10.20/js/jquery.dataTables.min.js';\n",
              "            datatableScript.type = 'text/javascript';\n",
              "            datatableScript.onload = function() {\n",
              "              window.interactive_beam_jquery = jQuery.noConflict(true);\n",
              "              window.interactive_beam_jquery(document).ready(function($){\n",
              "                \n",
              "            $(\"#progress_indicator_951ea9ea8ae766cd936c0641949a47a2\").remove();\n",
              "              });\n",
              "            }\n",
              "            document.head.appendChild(datatableScript);\n",
              "          };\n",
              "          document.head.appendChild(jqueryScript);\n",
              "        } else {\n",
              "          window.interactive_beam_jquery(document).ready(function($){\n",
              "            \n",
              "            $(\"#progress_indicator_951ea9ea8ae766cd936c0641949a47a2\").remove();\n",
              "          });\n",
              "        }"
            ]
          },
          "metadata": {}
        }
      ]
    },
    {
      "cell_type": "markdown",
      "source": [
        "## **[Custom Combiner](https://)**"
      ],
      "metadata": {
        "id": "_0Lk5pubv0Fg"
      }
    },
    {
      "cell_type": "code",
      "source": [
        "import apache_beam as beam\n",
        "\n",
        "\n",
        "p = beam.Pipeline(InteractiveRunner())\n",
        "\n",
        "def average_fn(elements):\n",
        "  # print(elements)\n",
        "  list_elements = list(elements)\n",
        "  return sum(list_elements)/len(list_elements)\n",
        "\n",
        "\n",
        "average = (p | \"Create\" >> Create(range(100))\n",
        "             | CombineGlobally(average_fn))\n",
        "\n",
        "\n",
        "ib.show(average)\n"
      ],
      "metadata": {
        "colab": {
          "base_uri": "https://localhost:8080/",
          "height": 210
        },
        "id": "lX5AJubSv48R",
        "outputId": "d3046a08-8faf-4ad0-838a-6a3ca4713d67"
      },
      "execution_count": null,
      "outputs": [
        {
          "output_type": "display_data",
          "data": {
            "text/html": [
              "\n",
              "            <link rel=\"stylesheet\" href=\"https://stackpath.bootstrapcdn.com/bootstrap/4.4.1/css/bootstrap.min.css\" integrity=\"sha384-Vkoo8x4CGsO3+Hhxv8T/Q5PaXtkKtu6ug5TOeNV6gBiFeWPGFN9MuhOf23Q9Ifjh\" crossorigin=\"anonymous\">\n",
              "            <div id=\"progress_indicator_87581dd203ddb2da0cc7e5893442e162\" class=\"spinner-border text-info\" role=\"status\">\n",
              "            </div>"
            ],
            "text/plain": [
              "<IPython.core.display.HTML object>"
            ]
          },
          "metadata": {}
        },
        {
          "output_type": "stream",
          "name": "stderr",
          "text": [
            "WARNING:root:Make sure that locally built Python SDK docker image has Python 3.7 interpreter.\n"
          ]
        },
        {
          "output_type": "display_data",
          "data": {
            "text/html": [
              "\n",
              "            <style>\n",
              "            .p-Widget.jp-OutputPrompt.jp-OutputArea-prompt:empty {\n",
              "              padding: 0;\n",
              "              border: 0;\n",
              "            }\n",
              "            .p-Widget.jp-RenderedJavaScript.jp-mod-trusted.jp-OutputArea-output:empty {\n",
              "              padding: 0;\n",
              "              border: 0;\n",
              "            }\n",
              "            </style>\n",
              "            <link rel=\"stylesheet\" href=\"https://cdn.datatables.net/1.10.20/css/jquery.dataTables.min.css\">\n",
              "            <table id=\"table_df_b113a3c0bfa90cc3f1772b74e58da3d0\" class=\"display\" style=\"display:block\"></table>\n",
              "            <script>\n",
              "              \n",
              "        if (typeof window.interactive_beam_jquery == 'undefined') {\n",
              "          var jqueryScript = document.createElement('script');\n",
              "          jqueryScript.src = 'https://code.jquery.com/jquery-3.4.1.slim.min.js';\n",
              "          jqueryScript.type = 'text/javascript';\n",
              "          jqueryScript.onload = function() {\n",
              "            var datatableScript = document.createElement('script');\n",
              "            datatableScript.src = 'https://cdn.datatables.net/1.10.20/js/jquery.dataTables.min.js';\n",
              "            datatableScript.type = 'text/javascript';\n",
              "            datatableScript.onload = function() {\n",
              "              window.interactive_beam_jquery = jQuery.noConflict(true);\n",
              "              window.interactive_beam_jquery(document).ready(function($){\n",
              "                \n",
              "            var dt;\n",
              "            if ($.fn.dataTable.isDataTable(\"#table_df_b113a3c0bfa90cc3f1772b74e58da3d0\")) {\n",
              "              dt = $(\"#table_df_b113a3c0bfa90cc3f1772b74e58da3d0\").dataTable();\n",
              "            } else if ($(\"#table_df_b113a3c0bfa90cc3f1772b74e58da3d0_wrapper\").length == 0) {\n",
              "              dt = $(\"#table_df_b113a3c0bfa90cc3f1772b74e58da3d0\").dataTable({\n",
              "                \n",
              "            bAutoWidth: false,\n",
              "            columns: [{'title': ''}, {'title': 'average.0'}],\n",
              "            destroy: true,\n",
              "            responsive: true,\n",
              "            columnDefs: [\n",
              "              {\n",
              "                targets: \"_all\",\n",
              "                className: \"dt-left\"\n",
              "              },\n",
              "              {\n",
              "                \"targets\": 0,\n",
              "                \"width\": \"10px\",\n",
              "                \"title\": \"\"\n",
              "              }\n",
              "            ]\n",
              "              });\n",
              "            } else {\n",
              "              return;\n",
              "            }\n",
              "            dt.api()\n",
              "              .clear()\n",
              "              .rows.add([{1: '93.95000000023325', 0: 0}])\n",
              "              .draw('full-hold');\n",
              "              });\n",
              "            }\n",
              "            document.head.appendChild(datatableScript);\n",
              "          };\n",
              "          document.head.appendChild(jqueryScript);\n",
              "        } else {\n",
              "          window.interactive_beam_jquery(document).ready(function($){\n",
              "            \n",
              "            var dt;\n",
              "            if ($.fn.dataTable.isDataTable(\"#table_df_b113a3c0bfa90cc3f1772b74e58da3d0\")) {\n",
              "              dt = $(\"#table_df_b113a3c0bfa90cc3f1772b74e58da3d0\").dataTable();\n",
              "            } else if ($(\"#table_df_b113a3c0bfa90cc3f1772b74e58da3d0_wrapper\").length == 0) {\n",
              "              dt = $(\"#table_df_b113a3c0bfa90cc3f1772b74e58da3d0\").dataTable({\n",
              "                \n",
              "            bAutoWidth: false,\n",
              "            columns: [{'title': ''}, {'title': 'average.0'}],\n",
              "            destroy: true,\n",
              "            responsive: true,\n",
              "            columnDefs: [\n",
              "              {\n",
              "                targets: \"_all\",\n",
              "                className: \"dt-left\"\n",
              "              },\n",
              "              {\n",
              "                \"targets\": 0,\n",
              "                \"width\": \"10px\",\n",
              "                \"title\": \"\"\n",
              "              }\n",
              "            ]\n",
              "              });\n",
              "            } else {\n",
              "              return;\n",
              "            }\n",
              "            dt.api()\n",
              "              .clear()\n",
              "              .rows.add([{1: '93.95000000023325', 0: 0}])\n",
              "              .draw('full-hold');\n",
              "          });\n",
              "        }\n",
              "            </script>"
            ],
            "text/plain": [
              "<IPython.core.display.HTML object>"
            ]
          },
          "metadata": {}
        },
        {
          "output_type": "display_data",
          "data": {
            "application/javascript": [
              "\n",
              "        if (typeof window.interactive_beam_jquery == 'undefined') {\n",
              "          var jqueryScript = document.createElement('script');\n",
              "          jqueryScript.src = 'https://code.jquery.com/jquery-3.4.1.slim.min.js';\n",
              "          jqueryScript.type = 'text/javascript';\n",
              "          jqueryScript.onload = function() {\n",
              "            var datatableScript = document.createElement('script');\n",
              "            datatableScript.src = 'https://cdn.datatables.net/1.10.20/js/jquery.dataTables.min.js';\n",
              "            datatableScript.type = 'text/javascript';\n",
              "            datatableScript.onload = function() {\n",
              "              window.interactive_beam_jquery = jQuery.noConflict(true);\n",
              "              window.interactive_beam_jquery(document).ready(function($){\n",
              "                \n",
              "            $(\"#progress_indicator_87581dd203ddb2da0cc7e5893442e162\").remove();\n",
              "              });\n",
              "            }\n",
              "            document.head.appendChild(datatableScript);\n",
              "          };\n",
              "          document.head.appendChild(jqueryScript);\n",
              "        } else {\n",
              "          window.interactive_beam_jquery(document).ready(function($){\n",
              "            \n",
              "            $(\"#progress_indicator_87581dd203ddb2da0cc7e5893442e162\").remove();\n",
              "          });\n",
              "        }"
            ]
          },
          "metadata": {}
        }
      ]
    },
    {
      "cell_type": "code",
      "source": [
        "import apache_beam as beam\n",
        "\n",
        "\n",
        "p = beam.Pipeline(InteractiveRunner())\n",
        "\n",
        "class AverageFn(beam.CombineFn):\n",
        "  def create_accumulator(self):\n",
        "    sum=0\n",
        "    count=0\n",
        "    return sum,count\n",
        "\n",
        "  def add_input(self,accumulator,input):\n",
        "    new_sum= accumulator[0]+input\n",
        "    new_count=accumulator[1]+1\n",
        "    return new_sum, new_count\n",
        "  \n",
        "  def merge_accumulators(self,accumulators):\n",
        "    sums = [accumlator[0] for accumlator in accumulators]\n",
        "    counts = [accumlator[1] for accumlator in accumulators]\n",
        "    return sum(sums), sum(counts)\n",
        "  \n",
        "  def extract_output(self,final_accumulator):\n",
        "    return final_accumulator[0]/final_accumulator[1]\n",
        "\n",
        "\n",
        "average = (p | \"Create\" >> Create(range(100))\n",
        "             | CombineGlobally(AverageFn()))\n",
        "\n",
        "\n",
        "ib.show(average)"
      ],
      "metadata": {
        "colab": {
          "base_uri": "https://localhost:8080/",
          "height": 210
        },
        "id": "ls3qWIFFxGDe",
        "outputId": "f2f0d8b0-e9ef-424d-902a-d50fdb557072"
      },
      "execution_count": null,
      "outputs": [
        {
          "output_type": "display_data",
          "data": {
            "text/html": [
              "\n",
              "            <link rel=\"stylesheet\" href=\"https://stackpath.bootstrapcdn.com/bootstrap/4.4.1/css/bootstrap.min.css\" integrity=\"sha384-Vkoo8x4CGsO3+Hhxv8T/Q5PaXtkKtu6ug5TOeNV6gBiFeWPGFN9MuhOf23Q9Ifjh\" crossorigin=\"anonymous\">\n",
              "            <div id=\"progress_indicator_69ebbde7fc4dd3f95a06d23389079984\" class=\"spinner-border text-info\" role=\"status\">\n",
              "            </div>"
            ],
            "text/plain": [
              "<IPython.core.display.HTML object>"
            ]
          },
          "metadata": {}
        },
        {
          "output_type": "stream",
          "name": "stderr",
          "text": [
            "WARNING:root:Make sure that locally built Python SDK docker image has Python 3.7 interpreter.\n"
          ]
        },
        {
          "output_type": "display_data",
          "data": {
            "text/html": [
              "\n",
              "            <style>\n",
              "            .p-Widget.jp-OutputPrompt.jp-OutputArea-prompt:empty {\n",
              "              padding: 0;\n",
              "              border: 0;\n",
              "            }\n",
              "            .p-Widget.jp-RenderedJavaScript.jp-mod-trusted.jp-OutputArea-output:empty {\n",
              "              padding: 0;\n",
              "              border: 0;\n",
              "            }\n",
              "            </style>\n",
              "            <link rel=\"stylesheet\" href=\"https://cdn.datatables.net/1.10.20/css/jquery.dataTables.min.css\">\n",
              "            <table id=\"table_df_b161c91a372bf6ef7cf47947a5d54a73\" class=\"display\" style=\"display:block\"></table>\n",
              "            <script>\n",
              "              \n",
              "        if (typeof window.interactive_beam_jquery == 'undefined') {\n",
              "          var jqueryScript = document.createElement('script');\n",
              "          jqueryScript.src = 'https://code.jquery.com/jquery-3.4.1.slim.min.js';\n",
              "          jqueryScript.type = 'text/javascript';\n",
              "          jqueryScript.onload = function() {\n",
              "            var datatableScript = document.createElement('script');\n",
              "            datatableScript.src = 'https://cdn.datatables.net/1.10.20/js/jquery.dataTables.min.js';\n",
              "            datatableScript.type = 'text/javascript';\n",
              "            datatableScript.onload = function() {\n",
              "              window.interactive_beam_jquery = jQuery.noConflict(true);\n",
              "              window.interactive_beam_jquery(document).ready(function($){\n",
              "                \n",
              "            var dt;\n",
              "            if ($.fn.dataTable.isDataTable(\"#table_df_b161c91a372bf6ef7cf47947a5d54a73\")) {\n",
              "              dt = $(\"#table_df_b161c91a372bf6ef7cf47947a5d54a73\").dataTable();\n",
              "            } else if ($(\"#table_df_b161c91a372bf6ef7cf47947a5d54a73_wrapper\").length == 0) {\n",
              "              dt = $(\"#table_df_b161c91a372bf6ef7cf47947a5d54a73\").dataTable({\n",
              "                \n",
              "            bAutoWidth: false,\n",
              "            columns: [{'title': ''}, {'title': 'average.0'}],\n",
              "            destroy: true,\n",
              "            responsive: true,\n",
              "            columnDefs: [\n",
              "              {\n",
              "                targets: \"_all\",\n",
              "                className: \"dt-left\"\n",
              "              },\n",
              "              {\n",
              "                \"targets\": 0,\n",
              "                \"width\": \"10px\",\n",
              "                \"title\": \"\"\n",
              "              }\n",
              "            ]\n",
              "              });\n",
              "            } else {\n",
              "              return;\n",
              "            }\n",
              "            dt.api()\n",
              "              .clear()\n",
              "              .rows.add([{1: '49.5', 0: 0}])\n",
              "              .draw('full-hold');\n",
              "              });\n",
              "            }\n",
              "            document.head.appendChild(datatableScript);\n",
              "          };\n",
              "          document.head.appendChild(jqueryScript);\n",
              "        } else {\n",
              "          window.interactive_beam_jquery(document).ready(function($){\n",
              "            \n",
              "            var dt;\n",
              "            if ($.fn.dataTable.isDataTable(\"#table_df_b161c91a372bf6ef7cf47947a5d54a73\")) {\n",
              "              dt = $(\"#table_df_b161c91a372bf6ef7cf47947a5d54a73\").dataTable();\n",
              "            } else if ($(\"#table_df_b161c91a372bf6ef7cf47947a5d54a73_wrapper\").length == 0) {\n",
              "              dt = $(\"#table_df_b161c91a372bf6ef7cf47947a5d54a73\").dataTable({\n",
              "                \n",
              "            bAutoWidth: false,\n",
              "            columns: [{'title': ''}, {'title': 'average.0'}],\n",
              "            destroy: true,\n",
              "            responsive: true,\n",
              "            columnDefs: [\n",
              "              {\n",
              "                targets: \"_all\",\n",
              "                className: \"dt-left\"\n",
              "              },\n",
              "              {\n",
              "                \"targets\": 0,\n",
              "                \"width\": \"10px\",\n",
              "                \"title\": \"\"\n",
              "              }\n",
              "            ]\n",
              "              });\n",
              "            } else {\n",
              "              return;\n",
              "            }\n",
              "            dt.api()\n",
              "              .clear()\n",
              "              .rows.add([{1: '49.5', 0: 0}])\n",
              "              .draw('full-hold');\n",
              "          });\n",
              "        }\n",
              "            </script>"
            ],
            "text/plain": [
              "<IPython.core.display.HTML object>"
            ]
          },
          "metadata": {}
        },
        {
          "output_type": "display_data",
          "data": {
            "application/javascript": [
              "\n",
              "        if (typeof window.interactive_beam_jquery == 'undefined') {\n",
              "          var jqueryScript = document.createElement('script');\n",
              "          jqueryScript.src = 'https://code.jquery.com/jquery-3.4.1.slim.min.js';\n",
              "          jqueryScript.type = 'text/javascript';\n",
              "          jqueryScript.onload = function() {\n",
              "            var datatableScript = document.createElement('script');\n",
              "            datatableScript.src = 'https://cdn.datatables.net/1.10.20/js/jquery.dataTables.min.js';\n",
              "            datatableScript.type = 'text/javascript';\n",
              "            datatableScript.onload = function() {\n",
              "              window.interactive_beam_jquery = jQuery.noConflict(true);\n",
              "              window.interactive_beam_jquery(document).ready(function($){\n",
              "                \n",
              "            $(\"#progress_indicator_69ebbde7fc4dd3f95a06d23389079984\").remove();\n",
              "              });\n",
              "            }\n",
              "            document.head.appendChild(datatableScript);\n",
              "          };\n",
              "          document.head.appendChild(jqueryScript);\n",
              "        } else {\n",
              "          window.interactive_beam_jquery(document).ready(function($){\n",
              "            \n",
              "            $(\"#progress_indicator_69ebbde7fc4dd3f95a06d23389079984\").remove();\n",
              "          });\n",
              "        }"
            ]
          },
          "metadata": {}
        }
      ]
    }
  ]
}