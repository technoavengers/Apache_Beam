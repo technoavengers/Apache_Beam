{
  "nbformat": 4,
  "nbformat_minor": 0,
  "metadata": {
    "colab": {
      "provenance": [],
      "authorship_tag": "ABX9TyPzdFAGhlJEqM7FsMUA/PQY",
      "include_colab_link": true
    },
    "kernelspec": {
      "name": "python3",
      "display_name": "Python 3"
    },
    "language_info": {
      "name": "python"
    }
  },
  "cells": [
    {
      "cell_type": "markdown",
      "metadata": {
        "id": "view-in-github",
        "colab_type": "text"
      },
      "source": [
        "<a href=\"https://colab.research.google.com/github/technoavengers/Apache_Beam/blob/main/Assignment2_Sol.ipynb\" target=\"_parent\"><img src=\"https://colab.research.google.com/assets/colab-badge.svg\" alt=\"Open In Colab\"/></a>"
      ]
    },
    {
      "cell_type": "markdown",
      "source": [
        "# ***Assignment 2: Solution***"
      ],
      "metadata": {
        "id": "W8RndH1K4VC_"
      }
    },
    {
      "cell_type": "code",
      "execution_count": null,
      "metadata": {
        "id": "YWu3mAJxnKAG"
      },
      "outputs": [],
      "source": [
        "pip install apache_beam"
      ]
    },
    {
      "cell_type": "code",
      "source": [
        "import apache_beam as beam\n",
        "p1 = beam.Pipeline()\n",
        "\n",
        "\n",
        "class Calculate_Credibility(beam.DoFn):\n",
        "  def process(self,record):\n",
        "    record = record.split(\",\")\n",
        "    total_dues = int(record[6])-int(record[8])\n",
        "    credibility = 0\n",
        "    if(total_dues > 0):\n",
        "      credibility=-1\n",
        "    if(total_dues <=0):\n",
        "      credibility=1\n",
        "    return [(record[0],credibility)]\n",
        "\n",
        "\n",
        "customers = (\n",
        "    p1\n",
        "    |beam.io.ReadFromText('credit_cards.txt',skip_header_lines=1)\n",
        "    |beam.ParDo(Calculate_Credibility())\n",
        "    |beam.CombinePerKey(sum)\n",
        "    |beam.Filter(lambda r: r[1]>5)\n",
        "    |beam.Map(print)\n",
        ")\n",
        "p1.run()"
      ],
      "metadata": {
        "colab": {
          "base_uri": "https://localhost:8080/"
        },
        "id": "mNrY5ruBnQ1P",
        "outputId": "d4204627-5ab5-4662-d7a6-8a7bc3128f97"
      },
      "execution_count": 9,
      "outputs": [
        {
          "output_type": "stream",
          "name": "stdout",
          "text": [
            "('CT65528', 6)\n",
            "('CT74827', 6)\n",
            "('CT98422', 6)\n",
            "('CT13659', 6)\n",
            "('CT62963', 6)\n",
            "('CT99434', 10)\n",
            "('CT44150', 6)\n",
            "('CT43467', 6)\n",
            "('CT61168', 8)\n",
            "('CT23359', 6)\n",
            "('CT49686', 6)\n",
            "('CT45112', 6)\n",
            "('CT23479', 6)\n",
            "('CT47266', 6)\n",
            "('CT26994', 8)\n",
            "('CT64877', 6)\n",
            "('CT44457', 8)\n",
            "('CT43856', 6)\n",
            "('CT95788', 6)\n",
            "('CT95280', 6)\n",
            "('CT35159', 6)\n",
            "('CT52538', 6)\n",
            "('CT59061', 6)\n",
            "('CT31762', 6)\n",
            "('CT69061', 6)\n",
            "('CT58295', 8)\n",
            "('CT70453', 8)\n",
            "('CT10382', 8)\n",
            "('CT97591', 6)\n",
            "('CT10464', 6)\n",
            "('CT63793', 6)\n",
            "('CT61148', 6)\n",
            "('CT78415', 6)\n",
            "('CT81212', 8)\n",
            "('CT36412', 8)\n",
            "('CT98213', 6)\n",
            "('CT68917', 6)\n",
            "('CT22111', 6)\n",
            "('CT60262', 8)\n",
            "('CT47326', 6)\n",
            "('CT27825', 8)\n",
            "('CT55496', 6)\n",
            "('CT91994', 6)\n",
            "('CT37655', 6)\n",
            "('CT47710', 10)\n",
            "('CT61245', 8)\n",
            "('CT30987', 6)\n",
            "('CT66024', 8)\n",
            "('CT64842', 6)\n",
            "('CT41572', 6)\n",
            "('CT59651', 6)\n",
            "('CT77483', 8)\n",
            "('CT33545', 8)\n",
            "('CT53847', 6)\n",
            "('CT81086', 8)\n",
            "('CT78427', 8)\n",
            "('CT38268', 6)\n",
            "('CT77818', 6)\n",
            "('CT32582', 6)\n",
            "('CT13247', 6)\n",
            "('CT76491', 8)\n",
            "('CT60012', 6)\n",
            "('CT37478', 6)\n",
            "('CT35072', 8)\n",
            "('CT74111', 6)\n",
            "('CT58328', 8)\n",
            "('CT86988', 6)\n",
            "('CT89660', 12)\n",
            "('CT79837', 8)\n",
            "('CT46744', 6)\n",
            "('CT40824', 6)\n",
            "('CT40532', 8)\n"
          ]
        },
        {
          "output_type": "execute_result",
          "data": {
            "text/plain": [
              "<apache_beam.runners.portability.fn_api_runner.fn_runner.RunnerResult at 0x7ba55eb110c0>"
            ]
          },
          "metadata": {},
          "execution_count": 9
        }
      ]
    }
  ]
}