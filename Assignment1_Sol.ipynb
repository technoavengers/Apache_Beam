{
  "nbformat": 4,
  "nbformat_minor": 0,
  "metadata": {
    "colab": {
      "provenance": [],
      "authorship_tag": "ABX9TyPGQ2Fgia+ne7qQqD9QK2Rp",
      "include_colab_link": true
    },
    "kernelspec": {
      "name": "python3",
      "display_name": "Python 3"
    },
    "language_info": {
      "name": "python"
    }
  },
  "cells": [
    {
      "cell_type": "markdown",
      "metadata": {
        "id": "view-in-github",
        "colab_type": "text"
      },
      "source": [
        "<a href=\"https://colab.research.google.com/github/technoavengers/Apache_Beam/blob/main/Assignment1_Sol.ipynb\" target=\"_parent\"><img src=\"https://colab.research.google.com/assets/colab-badge.svg\" alt=\"Open In Colab\"/></a>"
      ]
    },
    {
      "cell_type": "markdown",
      "source": [
        "# **Assignment 1: Solution**"
      ],
      "metadata": {
        "id": "-1pho1-gijxT"
      }
    },
    {
      "cell_type": "code",
      "execution_count": null,
      "metadata": {
        "id": "BR87sw-OiiO2"
      },
      "outputs": [],
      "source": [
        "import apache_beam as beam\n",
        "p1 = beam.Pipeline()\n",
        "customers = (\n",
        "    p1\n",
        "    |beam.io.ReadFromText('credit_cards.txt',skip_header_lines=1)\n",
        "    |beam.Map(lambda record:record.split(','))\n",
        "    |beam.Map(lambda record:(record[0],int(record[6])-int(record[8])))\n",
        "    |beam.CombinePerKey(sum)\n",
        "    |beam.Filter(lambda record: record[1]>1000)\n",
        "    |beam.Map(print)\n",
        ")\n",
        "p1.run()"
      ]
    }
  ]
}