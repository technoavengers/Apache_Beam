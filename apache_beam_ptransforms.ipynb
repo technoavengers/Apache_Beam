{
  "nbformat": 4,
  "nbformat_minor": 0,
  "metadata": {
    "colab": {
      "provenance": [],
      "mount_file_id": "1cOWdg8N3rCojtjQvL1PlBi7sHsw-HyQq",
      "authorship_tag": "ABX9TyON9WCo1bsEnXcFy3LMqxcZ",
      "include_colab_link": true
    },
    "kernelspec": {
      "name": "python3",
      "display_name": "Python 3"
    },
    "language_info": {
      "name": "python"
    }
  },
  "cells": [
    {
      "cell_type": "markdown",
      "metadata": {
        "id": "view-in-github",
        "colab_type": "text"
      },
      "source": [
        "<a href=\"https://colab.research.google.com/github/technoavengers/Apache_Beam/blob/main/apache_beam_ptransforms.ipynb\" target=\"_parent\"><img src=\"https://colab.research.google.com/assets/colab-badge.svg\" alt=\"Open In Colab\"/></a>"
      ]
    },
    {
      "cell_type": "code",
      "execution_count": null,
      "metadata": {
        "id": "mjaNHExznkfy"
      },
      "outputs": [],
      "source": [
        "pip install apache_beam"
      ]
    },
    {
      "cell_type": "markdown",
      "source": [
        "# ***Map PTransform***\n",
        "\n",
        "\n",
        "***Map is used to apply some operation on every record of your Pcollection.It takes one record as input and produce one record as an output***\n",
        "\n",
        "(1,2,3,4,5)  =>  ***map***(lambda record : record*2) => (2,4,6,8,10)"
      ],
      "metadata": {
        "id": "79O_YbQirSNC"
      }
    },
    {
      "cell_type": "code",
      "source": [],
      "metadata": {
        "id": "2OMJDTnrvWQ7"
      },
      "execution_count": null,
      "outputs": []
    },
    {
      "cell_type": "code",
      "source": [
        "import apache_beam as beam\n",
        "p1 = beam.Pipeline()\n",
        "customers = (\n",
        "    p1\n",
        "    |beam.io.ReadFromText('data/Customers_age.txt')\n",
        "    |beam.Map(lambda record:record.split(','))\n",
        "    |beam.Filter(lambda record: record[2]=='NY' and int(record[3])>20)\n",
        "    |beam.io.WriteToText('map')\n",
        ")\n",
        "p1.run()\n",
        "\n"
      ],
      "metadata": {
        "id": "8h_Hag84n3qx"
      },
      "execution_count": null,
      "outputs": []
    },
    {
      "cell_type": "code",
      "source": [
        "!cat map-00000-of-00001"
      ],
      "metadata": {
        "id": "Bk7kauI4oXsX"
      },
      "execution_count": null,
      "outputs": []
    },
    {
      "cell_type": "markdown",
      "source": [
        "# ***FlatMap PTransform***\n",
        "\n",
        "***Flatmap is just like Map Ptransform and is applied on every record of Pcollection but it can produce 0,1 or more records as an output***\n",
        "\n",
        "1 2 3 <br>\n",
        "4 5 6   => ***flatmap***(lambda record: record.split(' '))   => 1 2 3 4 5 6 7 8 9 <br>\n",
        "7 8 9 <br>"
      ],
      "metadata": {
        "id": "-JbJQ6kRsDAW"
      }
    },
    {
      "cell_type": "code",
      "source": [
        "import apache_beam as beam\n",
        "\n",
        "words=['peter','piper','pickled','picked','peck','pepper']\n",
        "def FindWord(element):\n",
        " if element in words:\n",
        "    return True\n",
        "\n",
        "p1 = beam.Pipeline()\n",
        "\n",
        "freq = (\n",
        "    p1\n",
        "    |beam.io.ReadFromText('data/Peter_Piper.txt')\n",
        "    |beam.FlatMap(lambda record: record.split(' '))\n",
        "    |beam.Filter(FindWord)\n",
        "    |beam.Map(lambda record: (record,1))\n",
        "    |beam.CombinePerKey(sum)\n",
        "    |beam.io.WriteToText('flatmap')\n",
        ")\n",
        "p1.run()"
      ],
      "metadata": {
        "id": "oJ8JucBusP7w"
      },
      "execution_count": null,
      "outputs": []
    },
    {
      "cell_type": "code",
      "source": [
        "from google.colab import drive\n",
        "drive.mount('/content/drive')"
      ],
      "metadata": {
        "id": "C-BfKfuDsyfb"
      },
      "execution_count": null,
      "outputs": []
    },
    {
      "cell_type": "code",
      "source": [
        "!cat flatmap-00000-of-00001"
      ],
      "metadata": {
        "id": "RgdS6NKMsRz7"
      },
      "execution_count": null,
      "outputs": []
    },
    {
      "cell_type": "markdown",
      "source": [
        "# ***Flatten PTransform***\n",
        "\n",
        "***Flatten Ptransform is used to flatten multiple PCollections into single Pcollections***"
      ],
      "metadata": {
        "id": "EF9lUjHfwcdy"
      }
    },
    {
      "cell_type": "code",
      "source": [
        "import apache_beam as beam\n",
        "\n",
        "p = beam.Pipeline()\n",
        "\n",
        "even = {2,4,6,8}\n",
        "odd = {1,3,5,7,9}\n",
        "name = ('John','Jim','Mary')\n",
        "\n",
        "even_pc = p | 'Create Pcollection from Even number' >> beam.Create(even)\n",
        "odd_pc = p | 'Create Pcollection from Odd Number' >> beam.Create(odd)\n",
        "name_pc = p | 'Create Pcollection from Name' >> beam.Create(name)\n",
        "\n",
        "result = ((even_pc,odd_pc,name_pc) | beam.Flatten()) | beam.Map(print)\n",
        "p.run()"
      ],
      "metadata": {
        "id": "85DsPUzowrHz"
      },
      "execution_count": null,
      "outputs": []
    },
    {
      "cell_type": "markdown",
      "source": [
        "# ***Partition PTransform***\n",
        "\n",
        "***Partition PTransform is used to divide data into seperate partition based on some logic***"
      ],
      "metadata": {
        "id": "zJ1Aaie5w5Of"
      }
    },
    {
      "cell_type": "code",
      "source": [
        "import apache_beam as beam\n",
        "\n",
        "p = beam.Pipeline()\n",
        "number = {1,2,3,4,5,6,7,8}\n",
        "\n",
        "def partition_fn(element,num_partition):\n",
        "  return 0 if element%2 ==0 else 1\n",
        "\n",
        "\n",
        "number_pc = p| beam.Create(number)| beam.Partition(partition_fn,2)\n",
        "\n",
        "number_pc[1]| 'Printing first partition' >> beam.Map(print)\n",
        "\n",
        "p.run()"
      ],
      "metadata": {
        "id": "RlLLdpy_xKYz"
      },
      "execution_count": null,
      "outputs": []
    },
    {
      "cell_type": "markdown",
      "source": [
        "## ***Composite PTransform***\n",
        "\n",
        "***Using composite PTransform, you can club multiple PTransforms into one and apply as one PTransform.***"
      ],
      "metadata": {
        "id": "53JnxFUQxmkG"
      }
    },
    {
      "cell_type": "markdown",
      "source": [
        "***Without Using Composite***"
      ],
      "metadata": {
        "id": "GarwrEQ93GJl"
      }
    },
    {
      "cell_type": "code",
      "source": [
        "import apache_beam as beam\n",
        "p1 = beam.Pipeline()\n",
        "\n",
        "def SplitRow(input_element):\n",
        "  return input_element.split(',')\n",
        "\n",
        "def FilterBasedonCountry(countryName,input_element):\n",
        "  return input_element[1]==countryName\n",
        "\n",
        "def CalculateSum(elem):\n",
        "  return elem[0],(int(elem[2])+int(elem[3])+int(elem[4]))\n",
        "\n",
        "def FormatText(elem):\n",
        "  return elem[0]+' has recieved '+str(elem[1]) +' marks'\n",
        "\n",
        "input_collection = (\n",
        "    p1\n",
        "    |beam.io.ReadFromText('students_marks.txt')\n",
        "    |beam.Map(SplitRow)\n",
        "  )\n",
        "\n",
        "US_pipeline = (\n",
        "   input_collection\n",
        "   | beam.Filter(lambda record: FilterBasedonCountry('US',record))\n",
        "   | 'Calculate sum for US' >> beam.Map(CalculateSum)\n",
        "   | 'Format output for US' >> beam.Map(FormatText)\n",
        "   | 'Writing results to US File' >> beam.io.WriteToText('US_Result')\n",
        ")\n",
        "\n",
        "India_pipeline = (\n",
        "   input_collection\n",
        "   | beam.Filter(lambda record: FilterBasedonCountry('IN',record))\n",
        "   | 'Calculate sum for India' >> beam.Map(CalculateSum)\n",
        "   | 'Format output for India' >>beam.Map(FormatText)\n",
        "   | 'Writing results to India File' >> beam.io.WriteToText('IN_Result')\n",
        ")\n",
        "\n",
        "\n",
        "p1.run()\n"
      ],
      "metadata": {
        "id": "hm3m3GtF1R-j"
      },
      "execution_count": null,
      "outputs": []
    },
    {
      "cell_type": "code",
      "source": [
        "!cat IN_Result-00000-of-00001"
      ],
      "metadata": {
        "id": "-MwAeZFb2BbS"
      },
      "execution_count": null,
      "outputs": []
    },
    {
      "cell_type": "code",
      "source": [
        "!cat US_Result-00000-of-00001"
      ],
      "metadata": {
        "id": "FKNZ_n_U2Jp6"
      },
      "execution_count": null,
      "outputs": []
    },
    {
      "cell_type": "markdown",
      "source": [
        "***Using Composite PTransform***"
      ],
      "metadata": {
        "id": "j4x740ma3LF1"
      }
    },
    {
      "cell_type": "code",
      "source": [
        "import apache_beam as beam\n",
        "p1 = beam.Pipeline()\n",
        "\n",
        "class MyTransform(beam.PTransform):\n",
        "  def expand(self, input_col):\n",
        "    a = (\n",
        "        input_col\n",
        "                   | 'Calculate Sum' >> beam.Map(CalculateSum)\n",
        "                   | 'Apply Formatting' >> beam.Map(FormatText)\n",
        "    )\n",
        "    return a\n",
        "\n",
        "def SplitRow(input_element):\n",
        "  return input_element.split(',')\n",
        "\n",
        "def FilterBasedonCountry(countryName,input_element):\n",
        "  return input_element[1]==countryName\n",
        "\n",
        "def CalculateSum(elem):\n",
        "  return elem[0],(int(elem[2])+int(elem[3])+int(elem[4]))\n",
        "\n",
        "def FormatText(elem):\n",
        "  return elem[0]+' has recieved '+str(elem[1]) +' marks'\n",
        "\n",
        "input_collection = (\n",
        "    p1\n",
        "    |beam.io.ReadFromText('students_marks.txt')\n",
        "    |beam.Map(SplitRow)\n",
        "  )\n",
        "\n",
        "US_pipeline = (\n",
        "   input_collection\n",
        "   | beam.Filter(lambda record: FilterBasedonCountry('US',record))\n",
        "   | \"Composite Transformation for US\" >> MyTransform()\n",
        "   | 'Writing results to US File' >> beam.io.WriteToText('US_Composite')\n",
        ")\n",
        "\n",
        "India_pipeline = (\n",
        "   input_collection\n",
        "   | beam.Filter(lambda record: FilterBasedonCountry('IN',record))\n",
        "   | \"Composite Transformation for IN\" >> MyTransform()\n",
        "   |'Writing results to India File' >> beam.io.WriteToText('IN_Composite')\n",
        ")\n",
        "\n",
        "\n",
        "p1.run()"
      ],
      "metadata": {
        "id": "nahGCXWW1GLX"
      },
      "execution_count": null,
      "outputs": []
    },
    {
      "cell_type": "code",
      "source": [
        "!cat IN_Composite-00000-of-00001"
      ],
      "metadata": {
        "id": "cW49xeoR2b5W"
      },
      "execution_count": null,
      "outputs": []
    },
    {
      "cell_type": "code",
      "source": [
        "!cat US_Composite-00000-of-00001"
      ],
      "metadata": {
        "id": "bMGo__DV2qmr"
      },
      "execution_count": null,
      "outputs": []
    },
    {
      "cell_type": "markdown",
      "source": [
        "# ***CoGroupByKey***\n",
        "\n",
        "***CoGroupBykey is used to join two PCollection based on some joining key.***"
      ],
      "metadata": {
        "id": "WIY5dw4K3W5g"
      }
    },
    {
      "cell_type": "code",
      "source": [
        "import apache_beam as beam\n",
        "\n",
        "p = beam.Pipeline()\n",
        "movie_name = [\n",
        "    (1, 'SpiderMan'),\n",
        "    (2, 'Avenger'),\n",
        "    (3, 'Titanic'),\n",
        "    (4, 'Green Miles'),\n",
        "]\n",
        "movies_rating = [\n",
        "    (1, 3.5),\n",
        "    (2, 4),\n",
        "    (1,4.5),\n",
        "    (3,3.5),\n",
        "    (2,4.5)\n",
        "]\n",
        "\n",
        "name = p | 'Create Name Pcollection' >> beam.Create(movie_name)\n",
        "ratings = p | 'Create Rating Pcollection' >> beam.Create(movies_rating)\n",
        "\n",
        "joinedResult= ({'movie_name':name,'movie_rating':ratings} | beam.CoGroupByKey()) | beam.Map(print)\n",
        "\n",
        "p.run()"
      ],
      "metadata": {
        "id": "ePnzIiFv3dW4"
      },
      "execution_count": null,
      "outputs": []
    },
    {
      "cell_type": "markdown",
      "source": [
        "# ***Pardo PTransform***\n",
        "\n",
        "***Pardo PTransform is a general purpose transform using which you can write custom code. It can also be used to replace existing Ptransforms.***"
      ],
      "metadata": {
        "id": "sMrcClUJ34Zn"
      }
    },
    {
      "cell_type": "code",
      "source": [
        "import apache_beam as beam\n",
        "p1 = beam.Pipeline()\n",
        "\n",
        "class SplitRow(beam.DoFn):\n",
        "  def process(self,element):\n",
        "    return [element.split(',')]\n",
        "\n",
        "class FilterCustomer(beam.DoFn):\n",
        "  def process(self,element):\n",
        "    if element[2]=='NY' and int(element[3])>20:\n",
        "      return [element]\n",
        "\n",
        "\n",
        "customers = (\n",
        "    p1\n",
        "    |beam.io.ReadFromText('Customers_age.txt')\n",
        "    |beam.Map(lambda record:record.split(','))\n",
        "    |beam.Filter(lambda record: record[2]=='NY' and int(record[3])>20)\n",
        "    |beam.io.WriteToText('result')\n",
        ")\n",
        "p1.run()\n",
        "\n"
      ],
      "metadata": {
        "id": "QyH17emD6oev"
      },
      "execution_count": null,
      "outputs": []
    },
    {
      "cell_type": "code",
      "source": [
        "import apache_beam as beam\n",
        "p1 = beam.Pipeline()\n",
        "\n",
        "class SplitRow(beam.DoFn):\n",
        "  def process(self,element):\n",
        "    return [element.split(',')]\n",
        "\n",
        "class FilterCustomer(beam.DoFn):\n",
        "  def process(self,element):\n",
        "    if element[2]=='NY' and int(element[3])>20:\n",
        "      return [element]\n",
        "\n",
        "\n",
        "customers = (\n",
        "    p1\n",
        "    |beam.io.ReadFromText('Customers_age.txt')\n",
        "    |beam.ParDo(SplitRow())\n",
        "    |beam.ParDo(FilterCustomer())\n",
        "    |beam.io.WriteToText('result')\n",
        ")\n",
        "p1.run()"
      ],
      "metadata": {
        "id": "O7_xuhV86VQO"
      },
      "execution_count": null,
      "outputs": []
    }
  ]
}