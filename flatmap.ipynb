{
  "nbformat": 4,
  "nbformat_minor": 0,
  "metadata": {
    "colab": {
      "provenance": [],
      "authorship_tag": "ABX9TyP1IP9Df8WhAVjP7lofDuG/",
      "include_colab_link": true
    },
    "kernelspec": {
      "name": "python3",
      "display_name": "Python 3"
    },
    "language_info": {
      "name": "python"
    }
  },
  "cells": [
    {
      "cell_type": "markdown",
      "metadata": {
        "id": "view-in-github",
        "colab_type": "text"
      },
      "source": [
        "<a href=\"https://colab.research.google.com/github/technoavengers/Apache_Beam/blob/main/flatmap.ipynb\" target=\"_parent\"><img src=\"https://colab.research.google.com/assets/colab-badge.svg\" alt=\"Open In Colab\"/></a>"
      ]
    },
    {
      "cell_type": "code",
      "execution_count": null,
      "metadata": {
        "id": "WDJHuGewpHOk"
      },
      "outputs": [],
      "source": [
        "pip install apache_beam"
      ]
    },
    {
      "cell_type": "code",
      "source": [
        "import apache_beam as beam\n",
        "\n",
        "words=['peter','piper','pickled','picked','peck','pepper']\n",
        "def FindWord(element):\n",
        " if element in words:\n",
        "    return True\n",
        "\n",
        "p1 = beam.Pipeline()\n",
        "\n",
        "freq = (\n",
        "    p1\n",
        "    |beam.io.ReadFromText('Peter_Piper.txt')\n",
        "    |beam.FlatMap(lambda record: record.split(' '))\n",
        "    |beam.Filter(FindWord)\n",
        "    |beam.Map(lambda record: (record,1))\n",
        "    |beam.CombinePerKey(sum)\n",
        "    |beam.io.WriteToText('result')\n",
        ")\n",
        "p1.run()"
      ],
      "metadata": {
        "id": "pIvTej2NpZZX"
      },
      "execution_count": null,
      "outputs": []
    },
    {
      "cell_type": "code",
      "source": [
        "!cat result-00000-of-00001"
      ],
      "metadata": {
        "id": "8H4S0FLXpz-V"
      },
      "execution_count": null,
      "outputs": []
    }
  ]
}