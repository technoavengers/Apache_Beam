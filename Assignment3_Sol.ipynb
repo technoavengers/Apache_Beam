{
  "nbformat": 4,
  "nbformat_minor": 0,
  "metadata": {
    "colab": {
      "provenance": [],
      "authorship_tag": "ABX9TyNxUqGtb32LFTL1tlwanOPi",
      "include_colab_link": true
    },
    "kernelspec": {
      "name": "python3",
      "display_name": "Python 3"
    },
    "language_info": {
      "name": "python"
    }
  },
  "cells": [
    {
      "cell_type": "markdown",
      "metadata": {
        "id": "view-in-github",
        "colab_type": "text"
      },
      "source": [
        "<a href=\"https://colab.research.google.com/github/technoavengers/Apache_Beam/blob/main/Assignment3_Sol.ipynb\" target=\"_parent\"><img src=\"https://colab.research.google.com/assets/colab-badge.svg\" alt=\"Open In Colab\"/></a>"
      ]
    },
    {
      "cell_type": "code",
      "source": [
        "pip install apache_beam"
      ],
      "metadata": {
        "id": "XOAHSoW575Ng"
      },
      "execution_count": null,
      "outputs": []
    },
    {
      "cell_type": "code",
      "execution_count": 12,
      "metadata": {
        "colab": {
          "base_uri": "https://localhost:8080/"
        },
        "id": "CQuYmCu67vpO",
        "outputId": "b963c52d-2ee9-4934-f770-2d57ba20c5ad"
      },
      "outputs": [
        {
          "output_type": "stream",
          "name": "stdout",
          "text": [
            "['CT65528', 'CT62963', 'CT69061', 'CT27825']\n"
          ]
        },
        {
          "output_type": "execute_result",
          "data": {
            "text/plain": [
              "<apache_beam.runners.portability.fn_api_runner.fn_runner.RunnerResult at 0x7c04cfcd3850>"
            ]
          },
          "metadata": {},
          "execution_count": 12
        }
      ],
      "source": [
        "import apache_beam as beam\n",
        "p1 = beam.Pipeline()\n",
        "\n",
        "side_list = list()\n",
        "with open ('credit_card_exclude.txt','r') as exclude_file:\n",
        "  for cust_id in exclude_file:\n",
        "    side_list.append(cust_id.rstrip())\n",
        "\n",
        "print(side_list)\n",
        "\n",
        "class ProcessCustomers(beam.DoFn):\n",
        "  def process(self,element,side_list):\n",
        "    record = element.split(',')\n",
        "    if record[0] not in side_list:\n",
        "      if(int(record[5])-int(record[6]) <=100):\n",
        "        yield record[0]\n",
        "      if(record[4]==('Visa')):\n",
        "        yield  beam.pvalue.TaggedOutput('Visa_Holders',element)\n",
        "\n",
        "\n",
        "customers = (\n",
        "    p1\n",
        "    |beam.io.ReadFromText('credit_cards.txt',skip_header_lines=1)\n",
        "    |beam.ParDo(ProcessCustomers(),side_list).with_outputs('Visa_Holders', main='Max_Credit_Limit')\n",
        ")\n",
        "\n",
        "visa_holder = customers.Visa_Holders\n",
        "max_credit_limit = customers.Max_Credit_Limit\n",
        "\n",
        "visa_holder | 'Write Visa Holder Customers' >> beam.io.WriteToText(\"visa-holder\")\n",
        "max_credit_limit  | beam.Distinct() | 'Write Customers who have used their Max Credit Limit' >> beam.io.WriteToText(\"max_credit_limit\")\n",
        "\n",
        "\n",
        "p1.run()"
      ]
    },
    {
      "cell_type": "code",
      "source": [
        "! cat /content/visa-holder-00000-of-00001"
      ],
      "metadata": {
        "id": "OZqb4Jg-CBy7"
      },
      "execution_count": null,
      "outputs": []
    },
    {
      "cell_type": "code",
      "source": [
        "! cat /content/max_credit_limit-00000-of-00001"
      ],
      "metadata": {
        "id": "S56xg6oJCGX2"
      },
      "execution_count": null,
      "outputs": []
    }
  ]
}